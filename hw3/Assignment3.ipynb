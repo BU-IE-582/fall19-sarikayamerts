{
 "cells": [
  {
   "cell_type": "code",
   "execution_count": 1,
   "metadata": {},
   "outputs": [],
   "source": [
    "import pandas as pd\n",
    "import numpy as np\n",
    "import matplotlib.pyplot as plt\n",
    "import seaborn as sns\n",
    "import warnings\n",
    "import itertools \n",
    "import datetime as dt\n",
    "\n",
    "from sklearn.linear_model import LinearRegression\n",
    "from sklearn.linear_model import LassoCV\n",
    "\n",
    "\n",
    "warnings.simplefilter(\"ignore\")\n",
    "pd.set_option('display.max_rows', 500)"
   ]
  },
  {
   "cell_type": "code",
   "execution_count": 2,
   "metadata": {},
   "outputs": [],
   "source": [
    "data = pd.read_csv(\"RealTimeConsumption-01012016-21112019.csv\")\n",
    "# Converting Date column to datetime object\n",
    "data['Date'] = pd.to_datetime(data['Date'], format='%d.%m.%Y').dt.strftime('%Y-%m-%d')\n",
    "# Renaming columns\n",
    "data.columns = ['Date', 'Hour', 'Consumption']\n",
    "# Removing commas (corresponds orders) from float values\n",
    "data['Consumption'] = data['Consumption'].str.replace(',', '').astype(float)"
   ]
  },
  {
   "cell_type": "code",
   "execution_count": 3,
   "metadata": {},
   "outputs": [
    {
     "data": {
      "text/html": [
       "<div>\n",
       "<style scoped>\n",
       "    .dataframe tbody tr th:only-of-type {\n",
       "        vertical-align: middle;\n",
       "    }\n",
       "\n",
       "    .dataframe tbody tr th {\n",
       "        vertical-align: top;\n",
       "    }\n",
       "\n",
       "    .dataframe thead th {\n",
       "        text-align: right;\n",
       "    }\n",
       "</style>\n",
       "<table border=\"1\" class=\"dataframe\">\n",
       "  <thead>\n",
       "    <tr style=\"text-align: right;\">\n",
       "      <th></th>\n",
       "      <th>Date</th>\n",
       "      <th>Hour</th>\n",
       "      <th>Consumption</th>\n",
       "    </tr>\n",
       "  </thead>\n",
       "  <tbody>\n",
       "    <tr>\n",
       "      <th>0</th>\n",
       "      <td>2016-01-01</td>\n",
       "      <td>00:00</td>\n",
       "      <td>26277.24</td>\n",
       "    </tr>\n",
       "    <tr>\n",
       "      <th>1</th>\n",
       "      <td>2016-01-01</td>\n",
       "      <td>01:00</td>\n",
       "      <td>24991.82</td>\n",
       "    </tr>\n",
       "    <tr>\n",
       "      <th>2</th>\n",
       "      <td>2016-01-01</td>\n",
       "      <td>02:00</td>\n",
       "      <td>23532.61</td>\n",
       "    </tr>\n",
       "    <tr>\n",
       "      <th>3</th>\n",
       "      <td>2016-01-01</td>\n",
       "      <td>03:00</td>\n",
       "      <td>22464.78</td>\n",
       "    </tr>\n",
       "    <tr>\n",
       "      <th>4</th>\n",
       "      <td>2016-01-01</td>\n",
       "      <td>04:00</td>\n",
       "      <td>22002.91</td>\n",
       "    </tr>\n",
       "  </tbody>\n",
       "</table>\n",
       "</div>"
      ],
      "text/plain": [
       "         Date   Hour  Consumption\n",
       "0  2016-01-01  00:00     26277.24\n",
       "1  2016-01-01  01:00     24991.82\n",
       "2  2016-01-01  02:00     23532.61\n",
       "3  2016-01-01  03:00     22464.78\n",
       "4  2016-01-01  04:00     22002.91"
      ]
     },
     "execution_count": 3,
     "metadata": {},
     "output_type": "execute_result"
    }
   ],
   "source": [
    "# First 5 observations\n",
    "data.head(5)"
   ]
  },
  {
   "cell_type": "markdown",
   "metadata": {},
   "source": [
    "## Cleaning the Data"
   ]
  },
  {
   "cell_type": "code",
   "execution_count": 4,
   "metadata": {},
   "outputs": [
    {
     "data": {
      "text/plain": [
       "86     -2 days\n",
       "1      -1 days\n",
       "951    -1 days\n",
       "950    -1 days\n",
       "949    -1 days\n",
       "         ...  \n",
       "470    -1 days\n",
       "469    -1 days\n",
       "445    -1 days\n",
       "1419   -1 days\n",
       "0          NaT\n",
       "Name: Date, Length: 1420, dtype: timedelta64[ns]"
      ]
     },
     "execution_count": 4,
     "metadata": {},
     "output_type": "execute_result"
    }
   ],
   "source": [
    "# Finding each days and looking for the jumps between days, each should be one \n",
    "# But there's a jump for 2016-03-28 \n",
    "unique_days = data.loc[data['Hour'] == '00:00', 'Date'].reset_index(drop=True)\n",
    "unique_days = unique_days.apply(lambda x: dt.datetime.strptime(x, '%Y-%m-%d'))\n",
    "unique_days.shift(1).subtract(unique_days).sort_values()"
   ]
  },
  {
   "cell_type": "code",
   "execution_count": 5,
   "metadata": {},
   "outputs": [
    {
     "data": {
      "text/plain": [
       "Timestamp('2016-03-28 00:00:00')"
      ]
     },
     "execution_count": 5,
     "metadata": {},
     "output_type": "execute_result"
    }
   ],
   "source": [
    "# We can see that there is a jump for 86th day, which is 2016-03-28\n",
    "unique_days[86]"
   ]
  },
  {
   "cell_type": "code",
   "execution_count": 6,
   "metadata": {},
   "outputs": [
    {
     "data": {
      "text/html": [
       "<div>\n",
       "<style scoped>\n",
       "    .dataframe tbody tr th:only-of-type {\n",
       "        vertical-align: middle;\n",
       "    }\n",
       "\n",
       "    .dataframe tbody tr th {\n",
       "        vertical-align: top;\n",
       "    }\n",
       "\n",
       "    .dataframe thead th {\n",
       "        text-align: right;\n",
       "    }\n",
       "</style>\n",
       "<table border=\"1\" class=\"dataframe\">\n",
       "  <thead>\n",
       "    <tr style=\"text-align: right;\">\n",
       "      <th></th>\n",
       "      <th>Date</th>\n",
       "      <th>Hour</th>\n",
       "      <th>Consumption</th>\n",
       "    </tr>\n",
       "  </thead>\n",
       "  <tbody>\n",
       "    <tr>\n",
       "      <th>2040</th>\n",
       "      <td>2016-03-26</td>\n",
       "      <td>00:00</td>\n",
       "      <td>28413.30</td>\n",
       "    </tr>\n",
       "    <tr>\n",
       "      <th>2041</th>\n",
       "      <td>2016-03-26</td>\n",
       "      <td>01:00</td>\n",
       "      <td>26943.57</td>\n",
       "    </tr>\n",
       "    <tr>\n",
       "      <th>2042</th>\n",
       "      <td>2016-03-26</td>\n",
       "      <td>02:00</td>\n",
       "      <td>25841.11</td>\n",
       "    </tr>\n",
       "    <tr>\n",
       "      <th>2043</th>\n",
       "      <td>2016-03-26</td>\n",
       "      <td>03:00</td>\n",
       "      <td>25169.91</td>\n",
       "    </tr>\n",
       "    <tr>\n",
       "      <th>2064</th>\n",
       "      <td>2016-03-28</td>\n",
       "      <td>00:00</td>\n",
       "      <td>27358.43</td>\n",
       "    </tr>\n",
       "    <tr>\n",
       "      <th>2065</th>\n",
       "      <td>2016-03-28</td>\n",
       "      <td>01:00</td>\n",
       "      <td>25456.57</td>\n",
       "    </tr>\n",
       "    <tr>\n",
       "      <th>2066</th>\n",
       "      <td>2016-03-28</td>\n",
       "      <td>02:00</td>\n",
       "      <td>24328.06</td>\n",
       "    </tr>\n",
       "    <tr>\n",
       "      <th>2067</th>\n",
       "      <td>2016-03-28</td>\n",
       "      <td>03:00</td>\n",
       "      <td>23678.54</td>\n",
       "    </tr>\n",
       "  </tbody>\n",
       "</table>\n",
       "</div>"
      ],
      "text/plain": [
       "            Date   Hour  Consumption\n",
       "2040  2016-03-26  00:00     28413.30\n",
       "2041  2016-03-26  01:00     26943.57\n",
       "2042  2016-03-26  02:00     25841.11\n",
       "2043  2016-03-26  03:00     25169.91\n",
       "2064  2016-03-28  00:00     27358.43\n",
       "2065  2016-03-28  01:00     25456.57\n",
       "2066  2016-03-28  02:00     24328.06\n",
       "2067  2016-03-28  03:00     23678.54"
      ]
     },
     "execution_count": 6,
     "metadata": {},
     "output_type": "execute_result"
    }
   ],
   "source": [
    "# Checking the missing data (to keep data short, I only looked for first 4 hours)\n",
    "data[(data['Date'] >= '2016-03-26') & (data['Date'] <= '2016-03-28') & (data['Hour'] < '04:00')]"
   ]
  },
  {
   "cell_type": "code",
   "execution_count": 7,
   "metadata": {},
   "outputs": [],
   "source": [
    "# Filling missing date with the previous values consumption values\n",
    "last_week_consumption = data[data['Date'] == '2016-03-20'].replace('2016-03-20', '2016-03-27')\n",
    "data = pd.concat([data, last_week_consumption])\n",
    "data = data.sort_values(['Date', 'Hour']).reset_index(drop=True)"
   ]
  },
  {
   "cell_type": "code",
   "execution_count": 8,
   "metadata": {},
   "outputs": [
    {
     "data": {
      "text/html": [
       "<div>\n",
       "<style scoped>\n",
       "    .dataframe tbody tr th:only-of-type {\n",
       "        vertical-align: middle;\n",
       "    }\n",
       "\n",
       "    .dataframe tbody tr th {\n",
       "        vertical-align: top;\n",
       "    }\n",
       "\n",
       "    .dataframe thead th {\n",
       "        text-align: right;\n",
       "    }\n",
       "</style>\n",
       "<table border=\"1\" class=\"dataframe\">\n",
       "  <thead>\n",
       "    <tr style=\"text-align: right;\">\n",
       "      <th></th>\n",
       "      <th>Date</th>\n",
       "      <th>Hour</th>\n",
       "      <th>Consumption</th>\n",
       "    </tr>\n",
       "  </thead>\n",
       "  <tbody>\n",
       "    <tr>\n",
       "      <th>2040</th>\n",
       "      <td>2016-03-26</td>\n",
       "      <td>00:00</td>\n",
       "      <td>28413.30</td>\n",
       "    </tr>\n",
       "    <tr>\n",
       "      <th>2041</th>\n",
       "      <td>2016-03-26</td>\n",
       "      <td>01:00</td>\n",
       "      <td>26943.57</td>\n",
       "    </tr>\n",
       "    <tr>\n",
       "      <th>2042</th>\n",
       "      <td>2016-03-26</td>\n",
       "      <td>02:00</td>\n",
       "      <td>25841.11</td>\n",
       "    </tr>\n",
       "    <tr>\n",
       "      <th>2043</th>\n",
       "      <td>2016-03-26</td>\n",
       "      <td>03:00</td>\n",
       "      <td>25169.91</td>\n",
       "    </tr>\n",
       "    <tr>\n",
       "      <th>2064</th>\n",
       "      <td>2016-03-27</td>\n",
       "      <td>00:00</td>\n",
       "      <td>27580.31</td>\n",
       "    </tr>\n",
       "    <tr>\n",
       "      <th>2065</th>\n",
       "      <td>2016-03-27</td>\n",
       "      <td>01:00</td>\n",
       "      <td>25826.71</td>\n",
       "    </tr>\n",
       "    <tr>\n",
       "      <th>2066</th>\n",
       "      <td>2016-03-27</td>\n",
       "      <td>02:00</td>\n",
       "      <td>24546.43</td>\n",
       "    </tr>\n",
       "    <tr>\n",
       "      <th>2067</th>\n",
       "      <td>2016-03-27</td>\n",
       "      <td>03:00</td>\n",
       "      <td>23700.46</td>\n",
       "    </tr>\n",
       "    <tr>\n",
       "      <th>2088</th>\n",
       "      <td>2016-03-28</td>\n",
       "      <td>00:00</td>\n",
       "      <td>27358.43</td>\n",
       "    </tr>\n",
       "    <tr>\n",
       "      <th>2089</th>\n",
       "      <td>2016-03-28</td>\n",
       "      <td>01:00</td>\n",
       "      <td>25456.57</td>\n",
       "    </tr>\n",
       "    <tr>\n",
       "      <th>2090</th>\n",
       "      <td>2016-03-28</td>\n",
       "      <td>02:00</td>\n",
       "      <td>24328.06</td>\n",
       "    </tr>\n",
       "    <tr>\n",
       "      <th>2091</th>\n",
       "      <td>2016-03-28</td>\n",
       "      <td>03:00</td>\n",
       "      <td>23678.54</td>\n",
       "    </tr>\n",
       "  </tbody>\n",
       "</table>\n",
       "</div>"
      ],
      "text/plain": [
       "            Date   Hour  Consumption\n",
       "2040  2016-03-26  00:00     28413.30\n",
       "2041  2016-03-26  01:00     26943.57\n",
       "2042  2016-03-26  02:00     25841.11\n",
       "2043  2016-03-26  03:00     25169.91\n",
       "2064  2016-03-27  00:00     27580.31\n",
       "2065  2016-03-27  01:00     25826.71\n",
       "2066  2016-03-27  02:00     24546.43\n",
       "2067  2016-03-27  03:00     23700.46\n",
       "2088  2016-03-28  00:00     27358.43\n",
       "2089  2016-03-28  01:00     25456.57\n",
       "2090  2016-03-28  02:00     24328.06\n",
       "2091  2016-03-28  03:00     23678.54"
      ]
     },
     "execution_count": 8,
     "metadata": {},
     "output_type": "execute_result"
    }
   ],
   "source": [
    "# After concatenating\n",
    "data[(data['Date'] >= '2016-03-26') & (data['Date'] <= '2016-03-28') & (data['Hour'] < '04:00')]"
   ]
  },
  {
   "cell_type": "markdown",
   "metadata": {},
   "source": [
    "## a) Naive Approach"
   ]
  },
  {
   "cell_type": "code",
   "execution_count": 9,
   "metadata": {},
   "outputs": [
    {
     "data": {
      "text/html": [
       "<div>\n",
       "<style scoped>\n",
       "    .dataframe tbody tr th:only-of-type {\n",
       "        vertical-align: middle;\n",
       "    }\n",
       "\n",
       "    .dataframe tbody tr th {\n",
       "        vertical-align: top;\n",
       "    }\n",
       "\n",
       "    .dataframe thead th {\n",
       "        text-align: right;\n",
       "    }\n",
       "</style>\n",
       "<table border=\"1\" class=\"dataframe\">\n",
       "  <thead>\n",
       "    <tr style=\"text-align: right;\">\n",
       "      <th></th>\n",
       "      <th>Date</th>\n",
       "      <th>Hour</th>\n",
       "      <th>Consumption</th>\n",
       "      <th>Consumption_Lag48</th>\n",
       "      <th>Consumption_Lag168</th>\n",
       "    </tr>\n",
       "  </thead>\n",
       "  <tbody>\n",
       "    <tr>\n",
       "      <th>34099</th>\n",
       "      <td>2019-11-21</td>\n",
       "      <td>19:00</td>\n",
       "      <td>37946.52</td>\n",
       "      <td>37592.52</td>\n",
       "      <td>36943.60</td>\n",
       "    </tr>\n",
       "    <tr>\n",
       "      <th>34100</th>\n",
       "      <td>2019-11-21</td>\n",
       "      <td>20:00</td>\n",
       "      <td>37062.76</td>\n",
       "      <td>36855.44</td>\n",
       "      <td>36263.63</td>\n",
       "    </tr>\n",
       "    <tr>\n",
       "      <th>34101</th>\n",
       "      <td>2019-11-21</td>\n",
       "      <td>21:00</td>\n",
       "      <td>36151.79</td>\n",
       "      <td>35835.72</td>\n",
       "      <td>35254.77</td>\n",
       "    </tr>\n",
       "    <tr>\n",
       "      <th>34102</th>\n",
       "      <td>2019-11-21</td>\n",
       "      <td>22:00</td>\n",
       "      <td>35128.32</td>\n",
       "      <td>34726.53</td>\n",
       "      <td>34154.07</td>\n",
       "    </tr>\n",
       "    <tr>\n",
       "      <th>34103</th>\n",
       "      <td>2019-11-21</td>\n",
       "      <td>23:00</td>\n",
       "      <td>33776.82</td>\n",
       "      <td>33501.29</td>\n",
       "      <td>32646.61</td>\n",
       "    </tr>\n",
       "  </tbody>\n",
       "</table>\n",
       "</div>"
      ],
      "text/plain": [
       "             Date   Hour  Consumption  Consumption_Lag48  Consumption_Lag168\n",
       "34099  2019-11-21  19:00     37946.52           37592.52            36943.60\n",
       "34100  2019-11-21  20:00     37062.76           36855.44            36263.63\n",
       "34101  2019-11-21  21:00     36151.79           35835.72            35254.77\n",
       "34102  2019-11-21  22:00     35128.32           34726.53            34154.07\n",
       "34103  2019-11-21  23:00     33776.82           33501.29            32646.61"
      ]
     },
     "execution_count": 9,
     "metadata": {},
     "output_type": "execute_result"
    }
   ],
   "source": [
    "# Adding lagged values by shifting dataframe's columns and concatenating them\n",
    "data = pd.concat([data, \n",
    "                  data[['Consumption']].shift(48), \n",
    "                  data[['Consumption']].shift(168)], axis=1)\n",
    "data.columns = ['Date', 'Hour', 'Consumption', 'Consumption_Lag48', 'Consumption_Lag168']\n",
    "data.tail()"
   ]
  },
  {
   "cell_type": "code",
   "execution_count": 10,
   "metadata": {},
   "outputs": [
    {
     "name": "stdout",
     "output_type": "stream",
     "text": [
      "504 33600\n"
     ]
    }
   ],
   "source": [
    "# Splitting train and test data from 1 November 2019\n",
    "test = data[data['Date'] >= '2019-11-01']\n",
    "train = data[data['Date'] < '2019-11-01']\n",
    "print(len(test), len(train))"
   ]
  },
  {
   "cell_type": "code",
   "execution_count": 11,
   "metadata": {
    "scrolled": true
   },
   "outputs": [
    {
     "data": {
      "text/html": [
       "<div>\n",
       "<style scoped>\n",
       "    .dataframe tbody tr th:only-of-type {\n",
       "        vertical-align: middle;\n",
       "    }\n",
       "\n",
       "    .dataframe tbody tr th {\n",
       "        vertical-align: top;\n",
       "    }\n",
       "\n",
       "    .dataframe thead th {\n",
       "        text-align: right;\n",
       "    }\n",
       "</style>\n",
       "<table border=\"1\" class=\"dataframe\">\n",
       "  <thead>\n",
       "    <tr style=\"text-align: right;\">\n",
       "      <th></th>\n",
       "      <th>Date</th>\n",
       "      <th>Hour</th>\n",
       "      <th>Consumption</th>\n",
       "      <th>Consumption_Lag48</th>\n",
       "      <th>Consumption_Lag168</th>\n",
       "    </tr>\n",
       "  </thead>\n",
       "  <tbody>\n",
       "    <tr>\n",
       "      <th>33600</th>\n",
       "      <td>2019-11-01</td>\n",
       "      <td>00:00</td>\n",
       "      <td>29417.56</td>\n",
       "      <td>27154.21</td>\n",
       "      <td>29563.43</td>\n",
       "    </tr>\n",
       "    <tr>\n",
       "      <th>33601</th>\n",
       "      <td>2019-11-01</td>\n",
       "      <td>01:00</td>\n",
       "      <td>28133.75</td>\n",
       "      <td>26157.42</td>\n",
       "      <td>28242.90</td>\n",
       "    </tr>\n",
       "    <tr>\n",
       "      <th>33602</th>\n",
       "      <td>2019-11-01</td>\n",
       "      <td>02:00</td>\n",
       "      <td>27358.60</td>\n",
       "      <td>25373.88</td>\n",
       "      <td>27258.74</td>\n",
       "    </tr>\n",
       "    <tr>\n",
       "      <th>33603</th>\n",
       "      <td>2019-11-01</td>\n",
       "      <td>03:00</td>\n",
       "      <td>26780.09</td>\n",
       "      <td>24911.43</td>\n",
       "      <td>26739.84</td>\n",
       "    </tr>\n",
       "    <tr>\n",
       "      <th>33604</th>\n",
       "      <td>2019-11-01</td>\n",
       "      <td>04:00</td>\n",
       "      <td>26511.54</td>\n",
       "      <td>24836.11</td>\n",
       "      <td>26555.35</td>\n",
       "    </tr>\n",
       "  </tbody>\n",
       "</table>\n",
       "</div>"
      ],
      "text/plain": [
       "             Date   Hour  Consumption  Consumption_Lag48  Consumption_Lag168\n",
       "33600  2019-11-01  00:00     29417.56           27154.21            29563.43\n",
       "33601  2019-11-01  01:00     28133.75           26157.42            28242.90\n",
       "33602  2019-11-01  02:00     27358.60           25373.88            27258.74\n",
       "33603  2019-11-01  03:00     26780.09           24911.43            26739.84\n",
       "33604  2019-11-01  04:00     26511.54           24836.11            26555.35"
      ]
     },
     "execution_count": 11,
     "metadata": {},
     "output_type": "execute_result"
    }
   ],
   "source": [
    "# Removing NA or missing values from the data\n",
    "train = train.dropna()\n",
    "test = test[test['Consumption'] > 0]\n",
    "test.head()"
   ]
  },
  {
   "cell_type": "code",
   "execution_count": 12,
   "metadata": {},
   "outputs": [],
   "source": [
    "def calculate_mape(actual_col, predicted_col):\n",
    "  actual_col, predicted_col = np.array(actual_col), np.array(predicted_col)\n",
    "  assert len([i for i in actual_col if i <= 0]) == 0, \\\n",
    "    \"There are nonpositive values in actual column, consider dropping those observations from the data.\"\n",
    "  return (np.mean(np.abs((actual_col - predicted_col) / actual_col)) * 100, \n",
    "          np.abs((actual_col - predicted_col) / actual_col))"
   ]
  },
  {
   "cell_type": "code",
   "execution_count": 13,
   "metadata": {},
   "outputs": [
    {
     "name": "stdout",
     "output_type": "stream",
     "text": [
      "7.773674356597642\n"
     ]
    }
   ],
   "source": [
    "answer_a_2, list_a_2 = calculate_mape(test['Consumption'], test['Consumption_Lag48'])\n",
    "print(answer_a_2)"
   ]
  },
  {
   "cell_type": "code",
   "execution_count": 14,
   "metadata": {},
   "outputs": [
    {
     "name": "stdout",
     "output_type": "stream",
     "text": [
      "2.8368325260650877\n"
     ]
    }
   ],
   "source": [
    "answer_a_7, list_a_7 = calculate_mape(test['Consumption'], test['Consumption_Lag168'])\n",
    "print(answer_a_7)"
   ]
  },
  {
   "cell_type": "markdown",
   "metadata": {},
   "source": [
    "## b) Linear Regression"
   ]
  },
  {
   "cell_type": "code",
   "execution_count": 15,
   "metadata": {},
   "outputs": [],
   "source": [
    "def linear_reg_fnc(train_data, test_data, X, y, return_val=False):\n",
    "  train_X, train_y = train_data[X], train_data[y]\n",
    "  test_X, test_y = test_data[X], test_data[y]\n",
    "  reg = LinearRegression().fit(train_X, train_y)\n",
    "  predicted = reg.predict(test_X)\n",
    "  actual = np.array(test_y)\n",
    "  print(''.format(\n",
    "    reg.coef_[0][0], reg.coef_[0][1], reg.intercept_[0]))\n",
    "  mape, result_list = calculate_mape(actual, predicted)\n",
    "  print('MAPE is {}'.format(mape))\n",
    "  print('{} = {} + {}'.format(y[0], np.round(reg.intercept_[0], 4),\n",
    "                              ' + '.join(['{} * {}'.format(np.round(reg.coef_[0][i], 4), x) \n",
    "                                          for i,x in enumerate(X)])))\n",
    "  if return_val:\n",
    "    return mape, result_list"
   ]
  },
  {
   "cell_type": "code",
   "execution_count": 16,
   "metadata": {},
   "outputs": [
    {
     "name": "stdout",
     "output_type": "stream",
     "text": [
      "\n",
      "MAPE is 4.003013991176448\n",
      "Consumption = 1610.3746 + 0.3241 * Consumption_Lag48 + 0.6265 * Consumption_Lag168\n"
     ]
    }
   ],
   "source": [
    "answer_b, list_b = linear_reg_fnc(train, test, ['Consumption_Lag48', 'Consumption_Lag168'], ['Consumption'], return_val=True)\n",
    "list_b = list(itertools.chain.from_iterable(list_b))"
   ]
  },
  {
   "cell_type": "markdown",
   "metadata": {},
   "source": [
    "## c) Analyzing each hour seperately"
   ]
  },
  {
   "cell_type": "code",
   "execution_count": 17,
   "metadata": {},
   "outputs": [
    {
     "name": "stdout",
     "output_type": "stream",
     "text": [
      "\n",
      "MAPE is 5.153399727337642\n",
      "Consumption = 2388.0149 + 0.5022 * Consumption_Lag48 + 0.4207 * Consumption_Lag168\n",
      "\n",
      "\n",
      "\n",
      "MAPE is 5.248946857412524\n",
      "Consumption = 2306.2164 + 0.5064 * Consumption_Lag48 + 0.4152 * Consumption_Lag168\n",
      "\n",
      "\n",
      "\n",
      "MAPE is 5.356381534144769\n",
      "Consumption = 2368.8418 + 0.5081 * Consumption_Lag48 + 0.4082 * Consumption_Lag168\n",
      "\n",
      "\n",
      "\n",
      "MAPE is 5.397561401690561\n",
      "Consumption = 2416.3434 + 0.5009 * Consumption_Lag48 + 0.4115 * Consumption_Lag168\n",
      "\n",
      "\n",
      "\n",
      "MAPE is 5.338043421720102\n",
      "Consumption = 2444.3568 + 0.4821 * Consumption_Lag48 + 0.4282 * Consumption_Lag168\n",
      "\n",
      "\n",
      "\n",
      "MAPE is 5.215327161450597\n",
      "Consumption = 2646.4571 + 0.4448 * Consumption_Lag48 + 0.4575 * Consumption_Lag168\n",
      "\n",
      "\n",
      "\n",
      "MAPE is 4.843419685947041\n",
      "Consumption = 2656.5939 + 0.3749 * Consumption_Lag48 + 0.5273 * Consumption_Lag168\n",
      "\n",
      "\n",
      "\n",
      "MAPE is 4.183418177165774\n",
      "Consumption = 2901.9863 + 0.2645 * Consumption_Lag48 + 0.6338 * Consumption_Lag168\n",
      "\n",
      "\n",
      "\n",
      "MAPE is 3.5235461644925206\n",
      "Consumption = 3974.0943 + 0.1743 * Consumption_Lag48 + 0.7021 * Consumption_Lag168\n",
      "\n",
      "\n",
      "\n",
      "MAPE is 3.575642354264013\n",
      "Consumption = 4339.8282 + 0.178 * Consumption_Lag48 + 0.6959 * Consumption_Lag168\n",
      "\n",
      "\n",
      "\n",
      "MAPE is 3.7909674213888125\n",
      "Consumption = 4451.326 + 0.2118 * Consumption_Lag48 + 0.6618 * Consumption_Lag168\n",
      "\n",
      "\n",
      "\n",
      "MAPE is 3.9683614685763855\n",
      "Consumption = 4620.3534 + 0.2336 * Consumption_Lag48 + 0.6372 * Consumption_Lag168\n",
      "\n",
      "\n",
      "\n",
      "MAPE is 4.125531863270103\n",
      "Consumption = 4056.7727 + 0.2934 * Consumption_Lag48 + 0.589 * Consumption_Lag168\n",
      "\n",
      "\n",
      "\n",
      "MAPE is 4.29329806206349\n",
      "Consumption = 4136.4498 + 0.3199 * Consumption_Lag48 + 0.5615 * Consumption_Lag168\n",
      "\n",
      "\n",
      "\n",
      "MAPE is 4.1123355895939175\n",
      "Consumption = 4393.3278 + 0.2734 * Consumption_Lag48 + 0.603 * Consumption_Lag168\n",
      "\n",
      "\n",
      "\n",
      "MAPE is 4.064683023258402\n",
      "Consumption = 4300.6341 + 0.2692 * Consumption_Lag48 + 0.6093 * Consumption_Lag168\n",
      "\n",
      "\n",
      "\n",
      "MAPE is 3.991646561572289\n",
      "Consumption = 4213.8297 + 0.2585 * Consumption_Lag48 + 0.6228 * Consumption_Lag168\n",
      "\n",
      "\n",
      "\n",
      "MAPE is 3.9859563353414957\n",
      "Consumption = 3821.9032 + 0.273 * Consumption_Lag48 + 0.6195 * Consumption_Lag168\n",
      "\n",
      "\n",
      "\n",
      "MAPE is 4.312205344318019\n",
      "Consumption = 3534.3679 + 0.3418 * Consumption_Lag48 + 0.5588 * Consumption_Lag168\n",
      "\n",
      "\n",
      "\n",
      "MAPE is 4.6448401870847515\n",
      "Consumption = 3770.5652 + 0.3913 * Consumption_Lag48 + 0.5029 * Consumption_Lag168\n",
      "\n",
      "\n",
      "\n",
      "MAPE is 4.702182650170199\n",
      "Consumption = 3217.4174 + 0.4184 * Consumption_Lag48 + 0.4913 * Consumption_Lag168\n",
      "\n",
      "\n",
      "\n",
      "MAPE is 4.794389815174625\n",
      "Consumption = 2999.1879 + 0.4399 * Consumption_Lag48 + 0.4744 * Consumption_Lag168\n",
      "\n",
      "\n",
      "\n",
      "MAPE is 4.911380017737009\n",
      "Consumption = 3213.8516 + 0.4539 * Consumption_Lag48 + 0.4526 * Consumption_Lag168\n",
      "\n",
      "\n",
      "\n",
      "MAPE is 4.932435265558438\n",
      "Consumption = 2842.5799 + 0.4634 * Consumption_Lag48 + 0.4502 * Consumption_Lag168\n",
      "\n",
      "\n"
     ]
    }
   ],
   "source": [
    "hour_list = train['Hour'][:24].tolist()\n",
    "mape_list_c, list_c = [], []\n",
    "for hour in hour_list:\n",
    "  result = linear_reg_fnc(train[train['Hour'] == hour], \n",
    "                 test, \n",
    "                 X=['Consumption_Lag48', 'Consumption_Lag168'], \n",
    "                 y=['Consumption'],\n",
    "                 return_val=True)\n",
    "  mape_list_c.append(result[0])\n",
    "  list_c.append(list(itertools.chain.from_iterable(result[1])))\n",
    "  \n",
    "  print('\\n')\n",
    "\n",
    "list_c = list(itertools.chain.from_iterable(list_c))"
   ]
  },
  {
   "cell_type": "code",
   "execution_count": 18,
   "metadata": {},
   "outputs": [
    {
     "name": "stdout",
     "output_type": "stream",
     "text": [
      "Hour: 00:00\n",
      "\n",
      "MAPE is 3.122243108427619\n",
      "Consumption = 2388.0149 + 0.5022 * Consumption_Lag48 + 0.4207 * Consumption_Lag168\n",
      "\n",
      "\n",
      "Hour: 01:00\n",
      "\n",
      "MAPE is 3.334429865534528\n",
      "Consumption = 2306.2164 + 0.5064 * Consumption_Lag48 + 0.4152 * Consumption_Lag168\n",
      "\n",
      "\n",
      "Hour: 02:00\n",
      "\n",
      "MAPE is 3.355814935728315\n",
      "Consumption = 2368.8418 + 0.5081 * Consumption_Lag48 + 0.4082 * Consumption_Lag168\n",
      "\n",
      "\n",
      "Hour: 03:00\n",
      "\n",
      "MAPE is 3.275349481051059\n",
      "Consumption = 2416.3434 + 0.5009 * Consumption_Lag48 + 0.4115 * Consumption_Lag168\n",
      "\n",
      "\n",
      "Hour: 04:00\n",
      "\n",
      "MAPE is 3.2434181494119065\n",
      "Consumption = 2444.3568 + 0.4821 * Consumption_Lag48 + 0.4282 * Consumption_Lag168\n",
      "\n",
      "\n",
      "Hour: 05:00\n",
      "\n",
      "MAPE is 3.2440466184708985\n",
      "Consumption = 2646.4571 + 0.4448 * Consumption_Lag48 + 0.4575 * Consumption_Lag168\n",
      "\n",
      "\n",
      "Hour: 06:00\n",
      "\n",
      "MAPE is 3.4749836539398262\n",
      "Consumption = 2656.5939 + 0.3749 * Consumption_Lag48 + 0.5273 * Consumption_Lag168\n",
      "\n",
      "\n",
      "Hour: 07:00\n",
      "\n",
      "MAPE is 3.936829678778744\n",
      "Consumption = 2901.9863 + 0.2645 * Consumption_Lag48 + 0.6338 * Consumption_Lag168\n",
      "\n",
      "\n",
      "Hour: 08:00\n",
      "\n",
      "MAPE is 4.5491580826154525\n",
      "Consumption = 3974.0943 + 0.1743 * Consumption_Lag48 + 0.7021 * Consumption_Lag168\n",
      "\n",
      "\n",
      "Hour: 09:00\n",
      "\n",
      "MAPE is 4.823131509910771\n",
      "Consumption = 4339.8282 + 0.178 * Consumption_Lag48 + 0.6959 * Consumption_Lag168\n",
      "\n",
      "\n",
      "Hour: 10:00\n",
      "\n",
      "MAPE is 4.961913839600076\n",
      "Consumption = 4451.326 + 0.2118 * Consumption_Lag48 + 0.6618 * Consumption_Lag168\n",
      "\n",
      "\n",
      "Hour: 11:00\n",
      "\n",
      "MAPE is 5.2438489245718465\n",
      "Consumption = 4620.3534 + 0.2336 * Consumption_Lag48 + 0.6372 * Consumption_Lag168\n",
      "\n",
      "\n",
      "Hour: 12:00\n",
      "\n",
      "MAPE is 5.373899998763093\n",
      "Consumption = 4056.7727 + 0.2934 * Consumption_Lag48 + 0.589 * Consumption_Lag168\n",
      "\n",
      "\n",
      "Hour: 13:00\n",
      "\n",
      "MAPE is 5.754810262168025\n",
      "Consumption = 4136.4498 + 0.3199 * Consumption_Lag48 + 0.5615 * Consumption_Lag168\n",
      "\n",
      "\n",
      "Hour: 14:00\n",
      "\n",
      "MAPE is 6.11149855539141\n",
      "Consumption = 4393.3278 + 0.2734 * Consumption_Lag48 + 0.603 * Consumption_Lag168\n",
      "\n",
      "\n",
      "Hour: 15:00\n",
      "\n",
      "MAPE is 5.801883340394784\n",
      "Consumption = 4300.6341 + 0.2692 * Consumption_Lag48 + 0.6093 * Consumption_Lag168\n",
      "\n",
      "\n",
      "Hour: 16:00\n",
      "\n",
      "MAPE is 5.070777371873114\n",
      "Consumption = 4213.8297 + 0.2585 * Consumption_Lag48 + 0.6228 * Consumption_Lag168\n",
      "\n",
      "\n",
      "Hour: 17:00\n",
      "\n",
      "MAPE is 4.520297475686358\n",
      "Consumption = 3821.9032 + 0.273 * Consumption_Lag48 + 0.6195 * Consumption_Lag168\n",
      "\n",
      "\n",
      "Hour: 18:00\n",
      "\n",
      "MAPE is 3.646671993284344\n",
      "Consumption = 3534.3679 + 0.3418 * Consumption_Lag48 + 0.5588 * Consumption_Lag168\n",
      "\n",
      "\n",
      "Hour: 19:00\n",
      "\n",
      "MAPE is 3.2797704619323644\n",
      "Consumption = 3770.5652 + 0.3913 * Consumption_Lag48 + 0.5029 * Consumption_Lag168\n",
      "\n",
      "\n",
      "Hour: 20:00\n",
      "\n",
      "MAPE is 3.181758895053879\n",
      "Consumption = 3217.4174 + 0.4184 * Consumption_Lag48 + 0.4913 * Consumption_Lag168\n",
      "\n",
      "\n",
      "Hour: 21:00\n",
      "\n",
      "MAPE is 3.1257180695995244\n",
      "Consumption = 2999.1879 + 0.4399 * Consumption_Lag48 + 0.4744 * Consumption_Lag168\n",
      "\n",
      "\n",
      "Hour: 22:00\n",
      "\n",
      "MAPE is 3.2021359118738912\n",
      "Consumption = 3213.8516 + 0.4539 * Consumption_Lag48 + 0.4526 * Consumption_Lag168\n",
      "\n",
      "\n",
      "Hour: 23:00\n",
      "\n",
      "MAPE is 3.242633161792738\n",
      "Consumption = 2842.5799 + 0.4634 * Consumption_Lag48 + 0.4502 * Consumption_Lag168\n",
      "\n",
      "\n"
     ]
    }
   ],
   "source": [
    "# training with only same hours data\n",
    "\n",
    "for hour in hour_list:\n",
    "  print('Hour: {}'.format(hour))\n",
    "  linear_reg_fnc(train[train['Hour'] == hour], \n",
    "               test[test['Hour'] == hour], \n",
    "                 X=['Consumption_Lag48', 'Consumption_Lag168'], \n",
    "                 y=['Consumption'])\n",
    "  print('\\n')"
   ]
  },
  {
   "cell_type": "markdown",
   "metadata": {},
   "source": [
    "## d) Wide format, lasso"
   ]
  },
  {
   "cell_type": "code",
   "execution_count": 19,
   "metadata": {},
   "outputs": [
    {
     "data": {
      "text/html": [
       "<div>\n",
       "<style scoped>\n",
       "    .dataframe tbody tr th:only-of-type {\n",
       "        vertical-align: middle;\n",
       "    }\n",
       "\n",
       "    .dataframe tbody tr th {\n",
       "        vertical-align: top;\n",
       "    }\n",
       "\n",
       "    .dataframe thead th {\n",
       "        text-align: right;\n",
       "    }\n",
       "</style>\n",
       "<table border=\"1\" class=\"dataframe\">\n",
       "  <thead>\n",
       "    <tr style=\"text-align: right;\">\n",
       "      <th></th>\n",
       "      <th>Date</th>\n",
       "      <th>Hour</th>\n",
       "      <th>Consumption</th>\n",
       "      <th>Consumption_Lag48</th>\n",
       "      <th>Consumption_Lag168</th>\n",
       "    </tr>\n",
       "  </thead>\n",
       "  <tbody>\n",
       "    <tr>\n",
       "      <th>0</th>\n",
       "      <td>2016-01-01</td>\n",
       "      <td>00:00</td>\n",
       "      <td>26277.24</td>\n",
       "      <td>NaN</td>\n",
       "      <td>NaN</td>\n",
       "    </tr>\n",
       "    <tr>\n",
       "      <th>1</th>\n",
       "      <td>2016-01-01</td>\n",
       "      <td>01:00</td>\n",
       "      <td>24991.82</td>\n",
       "      <td>NaN</td>\n",
       "      <td>NaN</td>\n",
       "    </tr>\n",
       "    <tr>\n",
       "      <th>2</th>\n",
       "      <td>2016-01-01</td>\n",
       "      <td>02:00</td>\n",
       "      <td>23532.61</td>\n",
       "      <td>NaN</td>\n",
       "      <td>NaN</td>\n",
       "    </tr>\n",
       "    <tr>\n",
       "      <th>3</th>\n",
       "      <td>2016-01-01</td>\n",
       "      <td>03:00</td>\n",
       "      <td>22464.78</td>\n",
       "      <td>NaN</td>\n",
       "      <td>NaN</td>\n",
       "    </tr>\n",
       "    <tr>\n",
       "      <th>4</th>\n",
       "      <td>2016-01-01</td>\n",
       "      <td>04:00</td>\n",
       "      <td>22002.91</td>\n",
       "      <td>NaN</td>\n",
       "      <td>NaN</td>\n",
       "    </tr>\n",
       "  </tbody>\n",
       "</table>\n",
       "</div>"
      ],
      "text/plain": [
       "         Date   Hour  Consumption  Consumption_Lag48  Consumption_Lag168\n",
       "0  2016-01-01  00:00     26277.24                NaN                 NaN\n",
       "1  2016-01-01  01:00     24991.82                NaN                 NaN\n",
       "2  2016-01-01  02:00     23532.61                NaN                 NaN\n",
       "3  2016-01-01  03:00     22464.78                NaN                 NaN\n",
       "4  2016-01-01  04:00     22002.91                NaN                 NaN"
      ]
     },
     "execution_count": 19,
     "metadata": {},
     "output_type": "execute_result"
    }
   ],
   "source": [
    "data.head()"
   ]
  },
  {
   "cell_type": "code",
   "execution_count": 20,
   "metadata": {},
   "outputs": [
    {
     "data": {
      "text/html": [
       "<div>\n",
       "<style scoped>\n",
       "    .dataframe tbody tr th:only-of-type {\n",
       "        vertical-align: middle;\n",
       "    }\n",
       "\n",
       "    .dataframe tbody tr th {\n",
       "        vertical-align: top;\n",
       "    }\n",
       "\n",
       "    .dataframe thead th {\n",
       "        text-align: right;\n",
       "    }\n",
       "</style>\n",
       "<table border=\"1\" class=\"dataframe\">\n",
       "  <thead>\n",
       "    <tr style=\"text-align: right;\">\n",
       "      <th></th>\n",
       "      <th>Date</th>\n",
       "      <th>Lag_day_2_hour_0</th>\n",
       "      <th>Lag_day_2_hour_1</th>\n",
       "      <th>Lag_day_2_hour_2</th>\n",
       "      <th>Lag_day_2_hour_3</th>\n",
       "      <th>Lag_day_2_hour_4</th>\n",
       "      <th>Lag_day_2_hour_5</th>\n",
       "      <th>Lag_day_2_hour_6</th>\n",
       "      <th>Lag_day_2_hour_7</th>\n",
       "      <th>Lag_day_2_hour_8</th>\n",
       "      <th>...</th>\n",
       "      <th>Lag_day_7_hour_14</th>\n",
       "      <th>Lag_day_7_hour_15</th>\n",
       "      <th>Lag_day_7_hour_16</th>\n",
       "      <th>Lag_day_7_hour_17</th>\n",
       "      <th>Lag_day_7_hour_18</th>\n",
       "      <th>Lag_day_7_hour_19</th>\n",
       "      <th>Lag_day_7_hour_20</th>\n",
       "      <th>Lag_day_7_hour_21</th>\n",
       "      <th>Lag_day_7_hour_22</th>\n",
       "      <th>Lag_day_7_hour_23</th>\n",
       "    </tr>\n",
       "  </thead>\n",
       "  <tbody>\n",
       "    <tr>\n",
       "      <th>0</th>\n",
       "      <td>2016-01-08</td>\n",
       "      <td>29189.27</td>\n",
       "      <td>27614.02</td>\n",
       "      <td>26578.97</td>\n",
       "      <td>25719.19</td>\n",
       "      <td>25864.63</td>\n",
       "      <td>25918.59</td>\n",
       "      <td>27091.94</td>\n",
       "      <td>28533.05</td>\n",
       "      <td>33203.34</td>\n",
       "      <td>...</td>\n",
       "      <td>29548.32</td>\n",
       "      <td>29390.89</td>\n",
       "      <td>30734.97</td>\n",
       "      <td>32048.02</td>\n",
       "      <td>31438.11</td>\n",
       "      <td>30728.47</td>\n",
       "      <td>30166.14</td>\n",
       "      <td>29461.28</td>\n",
       "      <td>29242.83</td>\n",
       "      <td>28069.09</td>\n",
       "    </tr>\n",
       "    <tr>\n",
       "      <th>1</th>\n",
       "      <td>2016-01-09</td>\n",
       "      <td>28763.95</td>\n",
       "      <td>27284.84</td>\n",
       "      <td>26321.95</td>\n",
       "      <td>25748.49</td>\n",
       "      <td>25636.58</td>\n",
       "      <td>25932.52</td>\n",
       "      <td>26963.74</td>\n",
       "      <td>28444.83</td>\n",
       "      <td>32804.27</td>\n",
       "      <td>...</td>\n",
       "      <td>32796.18</td>\n",
       "      <td>32594.55</td>\n",
       "      <td>33358.47</td>\n",
       "      <td>34387.95</td>\n",
       "      <td>33591.26</td>\n",
       "      <td>32648.83</td>\n",
       "      <td>31897.73</td>\n",
       "      <td>31049.20</td>\n",
       "      <td>30906.43</td>\n",
       "      <td>29621.09</td>\n",
       "    </tr>\n",
       "    <tr>\n",
       "      <th>2</th>\n",
       "      <td>2016-01-10</td>\n",
       "      <td>28602.02</td>\n",
       "      <td>27112.37</td>\n",
       "      <td>25975.34</td>\n",
       "      <td>25315.55</td>\n",
       "      <td>25128.15</td>\n",
       "      <td>25356.22</td>\n",
       "      <td>26338.72</td>\n",
       "      <td>28086.42</td>\n",
       "      <td>32702.24</td>\n",
       "      <td>...</td>\n",
       "      <td>31056.47</td>\n",
       "      <td>30979.53</td>\n",
       "      <td>32297.46</td>\n",
       "      <td>33462.96</td>\n",
       "      <td>33151.03</td>\n",
       "      <td>32450.21</td>\n",
       "      <td>32093.93</td>\n",
       "      <td>31315.16</td>\n",
       "      <td>31014.19</td>\n",
       "      <td>29462.06</td>\n",
       "    </tr>\n",
       "    <tr>\n",
       "      <th>3</th>\n",
       "      <td>2016-01-11</td>\n",
       "      <td>29906.93</td>\n",
       "      <td>28061.98</td>\n",
       "      <td>26808.78</td>\n",
       "      <td>25798.80</td>\n",
       "      <td>25820.46</td>\n",
       "      <td>26035.77</td>\n",
       "      <td>26451.24</td>\n",
       "      <td>26853.42</td>\n",
       "      <td>30627.32</td>\n",
       "      <td>...</td>\n",
       "      <td>39661.98</td>\n",
       "      <td>39211.00</td>\n",
       "      <td>39760.12</td>\n",
       "      <td>39633.29</td>\n",
       "      <td>37621.41</td>\n",
       "      <td>35954.18</td>\n",
       "      <td>35114.12</td>\n",
       "      <td>34066.40</td>\n",
       "      <td>33686.83</td>\n",
       "      <td>31733.54</td>\n",
       "    </tr>\n",
       "    <tr>\n",
       "      <th>4</th>\n",
       "      <td>2016-01-12</td>\n",
       "      <td>28890.37</td>\n",
       "      <td>27133.75</td>\n",
       "      <td>25656.13</td>\n",
       "      <td>24937.87</td>\n",
       "      <td>24538.16</td>\n",
       "      <td>24616.05</td>\n",
       "      <td>24478.14</td>\n",
       "      <td>23813.35</td>\n",
       "      <td>24676.92</td>\n",
       "      <td>...</td>\n",
       "      <td>38086.11</td>\n",
       "      <td>37834.89</td>\n",
       "      <td>38599.34</td>\n",
       "      <td>38669.63</td>\n",
       "      <td>36954.78</td>\n",
       "      <td>35306.11</td>\n",
       "      <td>34301.59</td>\n",
       "      <td>33400.82</td>\n",
       "      <td>33359.37</td>\n",
       "      <td>31629.97</td>\n",
       "    </tr>\n",
       "  </tbody>\n",
       "</table>\n",
       "<p>5 rows × 49 columns</p>\n",
       "</div>"
      ],
      "text/plain": [
       "         Date  Lag_day_2_hour_0  Lag_day_2_hour_1  Lag_day_2_hour_2  \\\n",
       "0  2016-01-08          29189.27          27614.02          26578.97   \n",
       "1  2016-01-09          28763.95          27284.84          26321.95   \n",
       "2  2016-01-10          28602.02          27112.37          25975.34   \n",
       "3  2016-01-11          29906.93          28061.98          26808.78   \n",
       "4  2016-01-12          28890.37          27133.75          25656.13   \n",
       "\n",
       "   Lag_day_2_hour_3  Lag_day_2_hour_4  Lag_day_2_hour_5  Lag_day_2_hour_6  \\\n",
       "0          25719.19          25864.63          25918.59          27091.94   \n",
       "1          25748.49          25636.58          25932.52          26963.74   \n",
       "2          25315.55          25128.15          25356.22          26338.72   \n",
       "3          25798.80          25820.46          26035.77          26451.24   \n",
       "4          24937.87          24538.16          24616.05          24478.14   \n",
       "\n",
       "   Lag_day_2_hour_7  Lag_day_2_hour_8  ...  Lag_day_7_hour_14  \\\n",
       "0          28533.05          33203.34  ...           29548.32   \n",
       "1          28444.83          32804.27  ...           32796.18   \n",
       "2          28086.42          32702.24  ...           31056.47   \n",
       "3          26853.42          30627.32  ...           39661.98   \n",
       "4          23813.35          24676.92  ...           38086.11   \n",
       "\n",
       "   Lag_day_7_hour_15  Lag_day_7_hour_16  Lag_day_7_hour_17  Lag_day_7_hour_18  \\\n",
       "0           29390.89           30734.97           32048.02           31438.11   \n",
       "1           32594.55           33358.47           34387.95           33591.26   \n",
       "2           30979.53           32297.46           33462.96           33151.03   \n",
       "3           39211.00           39760.12           39633.29           37621.41   \n",
       "4           37834.89           38599.34           38669.63           36954.78   \n",
       "\n",
       "   Lag_day_7_hour_19  Lag_day_7_hour_20  Lag_day_7_hour_21  Lag_day_7_hour_22  \\\n",
       "0           30728.47           30166.14           29461.28           29242.83   \n",
       "1           32648.83           31897.73           31049.20           30906.43   \n",
       "2           32450.21           32093.93           31315.16           31014.19   \n",
       "3           35954.18           35114.12           34066.40           33686.83   \n",
       "4           35306.11           34301.59           33400.82           33359.37   \n",
       "\n",
       "   Lag_day_7_hour_23  \n",
       "0           28069.09  \n",
       "1           29621.09  \n",
       "2           29462.06  \n",
       "3           31733.54  \n",
       "4           31629.97  \n",
       "\n",
       "[5 rows x 49 columns]"
      ]
     },
     "execution_count": 20,
     "metadata": {},
     "output_type": "execute_result"
    }
   ],
   "source": [
    "data_wide = data.pivot(index='Date', columns='Hour', values=['Consumption_Lag48', 'Consumption_Lag168'])\n",
    "data_wide.columns = ['Lag_day_{}_hour_{}'.format(i, j) for i in (2, 7) for j in range(24)]\n",
    "data_wide = data_wide.dropna().reset_index()\n",
    "data_wide.head()"
   ]
  },
  {
   "cell_type": "code",
   "execution_count": 21,
   "metadata": {},
   "outputs": [],
   "source": [
    "# TO SEE CORR MATRIX, WHITER COLOR MEANS MORE SIMILAR"
   ]
  },
  {
   "cell_type": "code",
   "execution_count": 22,
   "metadata": {},
   "outputs": [
    {
     "data": {
      "text/plain": [
       "<matplotlib.axes._subplots.AxesSubplot at 0x7fc79e0da110>"
      ]
     },
     "execution_count": 22,
     "metadata": {},
     "output_type": "execute_result"
    },
    {
     "data": {
      "image/png": "[encoded data removed]",
      "text/plain": [
       "<Figure size 1152x576 with 2 Axes>"
      ]
     },
     "metadata": {
      "needs_background": "light"
     },
     "output_type": "display_data"
    }
   ],
   "source": [
    "corr = data_wide.iloc[:,1:-1].corr()\n",
    "\n",
    "fig, ax = plt.subplots(figsize=(16,8))\n",
    "sns.heatmap(corr, \n",
    "            xticklabels=corr.columns,\n",
    "            yticklabels=corr.columns)"
   ]
  },
  {
   "cell_type": "code",
   "execution_count": 23,
   "metadata": {
    "scrolled": false
   },
   "outputs": [
    {
     "name": "stdout",
     "output_type": "stream",
     "text": [
      "For 00:00 hour, column with max coefficient is Lag_day_2_hour_23\n",
      "For 01:00 hour, column with max coefficient is Lag_day_2_hour_23\n",
      "For 02:00 hour, column with max coefficient is Lag_day_2_hour_23\n",
      "For 03:00 hour, column with max coefficient is Lag_day_2_hour_23\n",
      "For 04:00 hour, column with max coefficient is Lag_day_2_hour_23\n",
      "For 05:00 hour, column with max coefficient is Lag_day_2_hour_23\n",
      "For 06:00 hour, column with max coefficient is Lag_day_2_hour_23\n",
      "For 07:00 hour, column with max coefficient is Lag_day_7_hour_7\n",
      "For 08:00 hour, column with max coefficient is Lag_day_2_hour_13\n",
      "For 09:00 hour, column with max coefficient is Lag_day_2_hour_13\n",
      "For 10:00 hour, column with max coefficient is Lag_day_2_hour_13\n",
      "For 11:00 hour, column with max coefficient is Lag_day_2_hour_13\n",
      "For 12:00 hour, column with max coefficient is Lag_day_2_hour_13\n",
      "For 13:00 hour, column with max coefficient is Lag_day_2_hour_13\n",
      "For 14:00 hour, column with max coefficient is Lag_day_2_hour_13\n",
      "For 15:00 hour, column with max coefficient is Lag_day_2_hour_13\n",
      "For 16:00 hour, column with max coefficient is Lag_day_2_hour_13\n",
      "For 17:00 hour, column with max coefficient is Lag_day_2_hour_13\n",
      "For 18:00 hour, column with max coefficient is Lag_day_2_hour_13\n",
      "For 19:00 hour, column with max coefficient is Lag_day_2_hour_23\n",
      "For 20:00 hour, column with max coefficient is Lag_day_2_hour_23\n",
      "For 21:00 hour, column with max coefficient is Lag_day_2_hour_23\n",
      "For 22:00 hour, column with max coefficient is Lag_day_2_hour_23\n",
      "For 23:00 hour, column with max coefficient is Lag_day_2_hour_23\n"
     ]
    }
   ],
   "source": [
    "mape_list_d, list_d = [], []\n",
    "for hour in hour_list:\n",
    "  train_X = data_wide[data_wide['Date'] < '2019-11-01'].iloc[:,1:]\n",
    "  test_X = data_wide[data_wide['Date'] >= '2019-11-01'].iloc[:,1:]\n",
    "  train_y = np.ravel(data.loc[(data['Date'].isin(data_wide[data_wide['Date'] < '2019-11-01'].Date)) & (data['Hour'] == hour), 'Consumption'])\n",
    "  test_y = np.ravel(data.loc[(data['Date'].isin(data_wide[data_wide['Date'] >= '2019-11-01'].Date)) & (data['Hour'] == hour), 'Consumption'])\n",
    "  reg = LassoCV(cv=10, normalize=True, tol=0.001, \n",
    "                selection='random', random_state=43,\n",
    "                alphas=np.logspace(-4, 2, 100))\n",
    "  reg.fit(train_X, train_y)\n",
    "  output_tuple = calculate_mape(reg.predict(test_X), test_y)\n",
    "  mape_list_d.append(output_tuple[0])\n",
    "  list_d.append(output_tuple[1])\n",
    "\n",
    "  print('For {} hour, column with max coefficient is {}'\n",
    "        .format(hour, train_X.columns[np.argmax(reg.coef_)]))\n",
    "  # fig, ax = plt.subplots(figsize=(12,8))\n",
    "  # sns.barplot(x=X.columns, y=reg.coef_, color='c')\n",
    "  # plt.xticks(rotation=90)\n",
    "  # plt.title(hour)\n",
    "  # plt.show()\n",
    "\n",
    "list_d = list(itertools.chain.from_iterable(list_d))"
   ]
  },
  {
   "cell_type": "markdown",
   "metadata": {},
   "source": [
    "For hours 19:00 - 06:00 lag_day_2_hour_23 is the most important element.\n",
    " 08:00-18:00 lag_day_2_hour_13\n",
    " for 07:00 hour, lag_day_7_hour_7\n",
    " \n",
    "We can understand that consumption at 7 am is directly affected from weekdays. Weekday's consumption is probably higher than weekend's since people usually wakes up earlier in the weekdays. Other than 7th hour, morning hours are mostly determined by 13th hour of 2 days before and night hours are determined by 23th hour of 2 days before."
   ]
  },
  {
   "cell_type": "markdown",
   "metadata": {},
   "source": [
    "# e"
   ]
  },
  {
   "cell_type": "code",
   "execution_count": 24,
   "metadata": {},
   "outputs": [],
   "source": [
    "# couldn't make this part, just a beginning\n",
    "# import cvxpy as cp\n",
    "# from cvxpy.atoms.affine.diff import diff\n",
    "\n",
    "# def loss_fn(X, Y, beta):\n",
    "#     return cp.norm2(cp.matmul(X, beta) - Y)**2\n",
    "\n",
    "# def regularizer(beta):\n",
    "#     return cp.norm1(beta)\n",
    "\n",
    "# def fused_penalty(beta):\n",
    "#     return cp.norm1(diff(beta))\n",
    "\n",
    "# def objective_fn(X, Y, beta, lambd1, lambd2):\n",
    "#     return loss_fn(X, Y, beta) + lambd1 * regularizer(beta) + lambd2 * fused_penalty(beta)\n",
    "\n",
    "# def mse(X, Y, beta):\n",
    "#     return (1.0 / X.shape[0]) * loss_fn(X, Y, beta).value"
   ]
  },
  {
   "cell_type": "markdown",
   "metadata": {},
   "source": [
    "# f"
   ]
  },
  {
   "cell_type": "code",
   "execution_count": 25,
   "metadata": {},
   "outputs": [
    {
     "data": {
      "image/png": "[encoded data removed]",
      "text/plain": [
       "<Figure size 1440x720 with 1 Axes>"
      ]
     },
     "metadata": {
      "needs_background": "light"
     },
     "output_type": "display_data"
    }
   ],
   "source": [
    "pd.DataFrame.from_dict({'Hours': hour_list,\n",
    "                        'SeperatedHoursMape': mape_list_c,\n",
    "                        'LassoMape': mape_list_d}).set_index('Hours').plot(kind='bar', figsize=(20,10))\n",
    "plt.axhline(answer_a_2, color='c', linestyle='--', linewidth=2, label='2 Days Naive')\n",
    "plt.axhline(answer_b, color='m', linestyle='--', linewidth=2, label='Linear Model')\n",
    "plt.axhline(answer_a_7, color='r', linestyle='--', linewidth=2, label='7 Days Naive')\n",
    "plt.legend()\n",
    "plt.xticks(rotation=45)\n",
    "plt.show()"
   ]
  },
  {
   "cell_type": "markdown",
   "metadata": {},
   "source": [
    "We can see that best values can be reached with Lasso model, especially for the night time, the model is doing really great. But for the day times 7 days naive approach works better than anything else in our example. This can be interpreted like this, reasons behind the variations in consumption values are number of people working, temperature and so on. These factors are directly related with day of week and hour of the day, so naive approach can learn this \"simple\" model pretty well, of course there are better approaches than this naive approach but regression models as these might complicate our problem by deducing extra meanings between features. This might be related with correlation of features or weights of the features."
   ]
  },
  {
   "cell_type": "code",
   "execution_count": 26,
   "metadata": {},
   "outputs": [
    {
     "data": {
      "text/plain": [
       "(504, 504, 504, 12096, 504)"
      ]
     },
     "execution_count": 26,
     "metadata": {},
     "output_type": "execute_result"
    }
   ],
   "source": [
    "len(list_a_2), len(list_a_7), len(list_b), len(list_c), len(list_d)"
   ]
  },
  {
   "cell_type": "code",
   "execution_count": 27,
   "metadata": {},
   "outputs": [],
   "source": [
    "boxplot_df = pd.DataFrame({'2DaysNaive': pd.Series(list_a_2), \n",
    "                          '7DaysNaive': pd.Series(list_a_7),\n",
    "                          'SeperatedHoursMape': pd.Series(list_b),\n",
    "                          'LinearModel': pd.Series(list_c),\n",
    "                          'Lasso': pd.Series(list_d)})\n"
   ]
  },
  {
   "cell_type": "code",
   "execution_count": 29,
   "metadata": {},
   "outputs": [
    {
     "data": {
      "text/plain": [
       "<matplotlib.axes._subplots.AxesSubplot at 0x7fc79ddde610>"
      ]
     },
     "execution_count": 29,
     "metadata": {},
     "output_type": "execute_result"
    },
    {
     "data": {
      "image/png": "[encoded data removed]",
      "text/plain": [
       "<Figure size 1152x576 with 1 Axes>"
      ]
     },
     "metadata": {
      "needs_background": "light"
     },
     "output_type": "display_data"
    }
   ],
   "source": [
    "# I am not displaying outlier points since the number of observations are different for \n",
    "# the first 3 model and remaining because of the hours dimension introduced\n",
    "fig, ax = plt.subplots(figsize=(16,8))\n",
    "sns.boxplot(data=boxplot_df, showfliers=False)"
   ]
  }
 ],
 "metadata": {
  "kernelspec": {
   "display_name": "Python [conda env:baydo] *",
   "language": "python",
   "name": "conda-env-baydo-py"
  },
  "language_info": {
   "codemirror_mode": {
    "name": "ipython",
    "version": 3
   },
   "file_extension": ".py",
   "mimetype": "text/x-python",
   "name": "python",
   "nbconvert_exporter": "python",
   "pygments_lexer": "ipython3",
   "version": "3.7.5"
  }
 },
 "nbformat": 4,
 "nbformat_minor": 2
}
