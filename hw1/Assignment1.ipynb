{
 "cells": [
  {
   "cell_type": "code",
   "execution_count": 1,
   "metadata": {},
   "outputs": [],
   "source": [
    "import os\n",
    "import pandas as pd\n",
    "import datetime as dt\n",
    "import seaborn as sns\n",
    "import matplotlib.pyplot as plt\n",
    "from scipy.stats import gamma, poisson\n",
    "import numpy as np\n",
    "\n",
    "# library specific settings\n",
    "\n",
    "sns.set(color_codes=True)\n",
    "pd.options.display.max_columns = 50"
   ]
  },
  {
   "cell_type": "code",
   "execution_count": null,
   "metadata": {},
   "outputs": [],
   "source": [
    "# moving the parent folder to reach helpers\n",
    "os.chdir('..')\n",
    "\n",
    "# updating data\n",
    "from helpers import update_data\n",
    "\n",
    "# going back to the hw1 folder\n",
    "os.chdir('hw1')"
   ]
  },
  {
   "cell_type": "code",
   "execution_count": 3,
   "metadata": {},
   "outputs": [],
   "source": [
    "bets = pd.read_csv(\"../data/bets.zip\")\n",
    "booking = pd.read_csv(\"../data/booking.zip\")\n",
    "goals = pd.read_csv(\"../data/goals.zip\")\n",
    "matches = pd.read_csv(\"../data/matches.zip\")\n",
    "stats = pd.read_csv(\"../data/stats.zip\")"
   ]
  },
  {
   "cell_type": "code",
   "execution_count": 4,
   "metadata": {
    "scrolled": true
   },
   "outputs": [
    {
     "data": {
      "text/html": [
       "<div>\n",
       "<style scoped>\n",
       "    .dataframe tbody tr th:only-of-type {\n",
       "        vertical-align: middle;\n",
       "    }\n",
       "\n",
       "    .dataframe tbody tr th {\n",
       "        vertical-align: top;\n",
       "    }\n",
       "\n",
       "    .dataframe thead th {\n",
       "        text-align: right;\n",
       "    }\n",
       "</style>\n",
       "<table border=\"1\" class=\"dataframe\">\n",
       "  <thead>\n",
       "    <tr style=\"text-align: right;\">\n",
       "      <th></th>\n",
       "      <th>match_id</th>\n",
       "      <th>odd_bookmakers</th>\n",
       "      <th>odd_epoch</th>\n",
       "      <th>variable</th>\n",
       "      <th>value</th>\n",
       "    </tr>\n",
       "  </thead>\n",
       "  <tbody>\n",
       "    <tr>\n",
       "      <th>0</th>\n",
       "      <td>146845</td>\n",
       "      <td>BetOlimp</td>\n",
       "      <td>1486301854</td>\n",
       "      <td>odd_1</td>\n",
       "      <td>1.96</td>\n",
       "    </tr>\n",
       "    <tr>\n",
       "      <th>1</th>\n",
       "      <td>151780</td>\n",
       "      <td>10Bet</td>\n",
       "      <td>1486314920</td>\n",
       "      <td>odd_1</td>\n",
       "      <td>2.15</td>\n",
       "    </tr>\n",
       "    <tr>\n",
       "      <th>2</th>\n",
       "      <td>151780</td>\n",
       "      <td>18bet</td>\n",
       "      <td>1486314920</td>\n",
       "      <td>odd_1</td>\n",
       "      <td>2.17</td>\n",
       "    </tr>\n",
       "    <tr>\n",
       "      <th>3</th>\n",
       "      <td>151780</td>\n",
       "      <td>1xBet</td>\n",
       "      <td>1486314920</td>\n",
       "      <td>odd_1</td>\n",
       "      <td>2.20</td>\n",
       "    </tr>\n",
       "    <tr>\n",
       "      <th>4</th>\n",
       "      <td>151780</td>\n",
       "      <td>5Dimes</td>\n",
       "      <td>1486314920</td>\n",
       "      <td>odd_1</td>\n",
       "      <td>2.23</td>\n",
       "    </tr>\n",
       "  </tbody>\n",
       "</table>\n",
       "</div>"
      ],
      "text/plain": [
       "   match_id odd_bookmakers   odd_epoch variable  value\n",
       "0    146845       BetOlimp  1486301854    odd_1   1.96\n",
       "1    151780          10Bet  1486314920    odd_1   2.15\n",
       "2    151780          18bet  1486314920    odd_1   2.17\n",
       "3    151780          1xBet  1486314920    odd_1   2.20\n",
       "4    151780         5Dimes  1486314920    odd_1   2.23"
      ]
     },
     "execution_count": 4,
     "metadata": {},
     "output_type": "execute_result"
    }
   ],
   "source": [
    "bets.head()"
   ]
  },
  {
   "cell_type": "code",
   "execution_count": 5,
   "metadata": {
    "scrolled": true
   },
   "outputs": [
    {
     "data": {
      "text/html": [
       "<div>\n",
       "<style scoped>\n",
       "    .dataframe tbody tr th:only-of-type {\n",
       "        vertical-align: middle;\n",
       "    }\n",
       "\n",
       "    .dataframe tbody tr th {\n",
       "        vertical-align: top;\n",
       "    }\n",
       "\n",
       "    .dataframe thead th {\n",
       "        text-align: right;\n",
       "    }\n",
       "</style>\n",
       "<table border=\"1\" class=\"dataframe\">\n",
       "  <thead>\n",
       "    <tr style=\"text-align: right;\">\n",
       "      <th></th>\n",
       "      <th>match_awayteam_id</th>\n",
       "      <th>match_hometeam_id</th>\n",
       "      <th>match_id</th>\n",
       "      <th>epoch</th>\n",
       "      <th>match_status</th>\n",
       "      <th>match_live</th>\n",
       "      <th>match_hometeam_name</th>\n",
       "      <th>match_awayteam_name</th>\n",
       "      <th>match_hometeam_score</th>\n",
       "      <th>match_awayteam_score</th>\n",
       "      <th>match_hometeam_halftime_score</th>\n",
       "      <th>match_awayteam_halftime_score</th>\n",
       "      <th>match_hometeam_extra_score</th>\n",
       "      <th>match_awayteam_extra_score</th>\n",
       "      <th>match_hometeam_penalty_score</th>\n",
       "      <th>match_awayteam_penalty_score</th>\n",
       "      <th>league_id</th>\n",
       "    </tr>\n",
       "  </thead>\n",
       "  <tbody>\n",
       "    <tr>\n",
       "      <th>0</th>\n",
       "      <td>7109</td>\n",
       "      <td>7097</td>\n",
       "      <td>41196</td>\n",
       "      <td>1505559600</td>\n",
       "      <td>Finished</td>\n",
       "      <td>0</td>\n",
       "      <td>Levante</td>\n",
       "      <td>Valencia</td>\n",
       "      <td>1.0</td>\n",
       "      <td>1.0</td>\n",
       "      <td>1.0</td>\n",
       "      <td>1.0</td>\n",
       "      <td>1.0</td>\n",
       "      <td>1.0</td>\n",
       "      <td>NaN</td>\n",
       "      <td>NaN</td>\n",
       "      <td>468</td>\n",
       "    </tr>\n",
       "    <tr>\n",
       "      <th>1</th>\n",
       "      <td>2614</td>\n",
       "      <td>2619</td>\n",
       "      <td>13331</td>\n",
       "      <td>1505561400</td>\n",
       "      <td>Finished</td>\n",
       "      <td>0</td>\n",
       "      <td>Crystal Palace</td>\n",
       "      <td>Southampton</td>\n",
       "      <td>0.0</td>\n",
       "      <td>1.0</td>\n",
       "      <td>0.0</td>\n",
       "      <td>1.0</td>\n",
       "      <td>0.0</td>\n",
       "      <td>1.0</td>\n",
       "      <td>NaN</td>\n",
       "      <td>NaN</td>\n",
       "      <td>148</td>\n",
       "    </tr>\n",
       "    <tr>\n",
       "      <th>2</th>\n",
       "      <td>3224</td>\n",
       "      <td>3238</td>\n",
       "      <td>17683</td>\n",
       "      <td>1505568600</td>\n",
       "      <td>Finished</td>\n",
       "      <td>0</td>\n",
       "      <td>Eintracht Frankfurt</td>\n",
       "      <td>FC Augsburg</td>\n",
       "      <td>1.0</td>\n",
       "      <td>2.0</td>\n",
       "      <td>0.0</td>\n",
       "      <td>1.0</td>\n",
       "      <td>0.0</td>\n",
       "      <td>1.0</td>\n",
       "      <td>NaN</td>\n",
       "      <td>NaN</td>\n",
       "      <td>195</td>\n",
       "    </tr>\n",
       "    <tr>\n",
       "      <th>3</th>\n",
       "      <td>3235</td>\n",
       "      <td>3223</td>\n",
       "      <td>17684</td>\n",
       "      <td>1505568600</td>\n",
       "      <td>Finished</td>\n",
       "      <td>0</td>\n",
       "      <td>SV Werder Bremen</td>\n",
       "      <td>Schalke</td>\n",
       "      <td>1.0</td>\n",
       "      <td>2.0</td>\n",
       "      <td>1.0</td>\n",
       "      <td>1.0</td>\n",
       "      <td>1.0</td>\n",
       "      <td>1.0</td>\n",
       "      <td>NaN</td>\n",
       "      <td>NaN</td>\n",
       "      <td>195</td>\n",
       "    </tr>\n",
       "    <tr>\n",
       "      <th>4</th>\n",
       "      <td>3237</td>\n",
       "      <td>3225</td>\n",
       "      <td>17682</td>\n",
       "      <td>1505568600</td>\n",
       "      <td>Finished</td>\n",
       "      <td>0</td>\n",
       "      <td>Bayern Munich</td>\n",
       "      <td>1. FSV Mainz 05</td>\n",
       "      <td>4.0</td>\n",
       "      <td>0.0</td>\n",
       "      <td>2.0</td>\n",
       "      <td>0.0</td>\n",
       "      <td>2.0</td>\n",
       "      <td>0.0</td>\n",
       "      <td>NaN</td>\n",
       "      <td>NaN</td>\n",
       "      <td>195</td>\n",
       "    </tr>\n",
       "  </tbody>\n",
       "</table>\n",
       "</div>"
      ],
      "text/plain": [
       "   match_awayteam_id  match_hometeam_id  match_id       epoch match_status  \\\n",
       "0               7109               7097     41196  1505559600     Finished   \n",
       "1               2614               2619     13331  1505561400     Finished   \n",
       "2               3224               3238     17683  1505568600     Finished   \n",
       "3               3235               3223     17684  1505568600     Finished   \n",
       "4               3237               3225     17682  1505568600     Finished   \n",
       "\n",
       "   match_live  match_hometeam_name match_awayteam_name  match_hometeam_score  \\\n",
       "0           0              Levante            Valencia                   1.0   \n",
       "1           0       Crystal Palace         Southampton                   0.0   \n",
       "2           0  Eintracht Frankfurt         FC Augsburg                   1.0   \n",
       "3           0     SV Werder Bremen             Schalke                   1.0   \n",
       "4           0        Bayern Munich     1. FSV Mainz 05                   4.0   \n",
       "\n",
       "   match_awayteam_score  match_hometeam_halftime_score  \\\n",
       "0                   1.0                            1.0   \n",
       "1                   1.0                            0.0   \n",
       "2                   2.0                            0.0   \n",
       "3                   2.0                            1.0   \n",
       "4                   0.0                            2.0   \n",
       "\n",
       "   match_awayteam_halftime_score  match_hometeam_extra_score  \\\n",
       "0                            1.0                         1.0   \n",
       "1                            1.0                         0.0   \n",
       "2                            1.0                         0.0   \n",
       "3                            1.0                         1.0   \n",
       "4                            0.0                         2.0   \n",
       "\n",
       "   match_awayteam_extra_score  match_hometeam_penalty_score  \\\n",
       "0                         1.0                           NaN   \n",
       "1                         1.0                           NaN   \n",
       "2                         1.0                           NaN   \n",
       "3                         1.0                           NaN   \n",
       "4                         0.0                           NaN   \n",
       "\n",
       "   match_awayteam_penalty_score  league_id  \n",
       "0                           NaN        468  \n",
       "1                           NaN        148  \n",
       "2                           NaN        195  \n",
       "3                           NaN        195  \n",
       "4                           NaN        195  "
      ]
     },
     "execution_count": 5,
     "metadata": {},
     "output_type": "execute_result"
    }
   ],
   "source": [
    "matches.head()"
   ]
  },
  {
   "cell_type": "markdown",
   "metadata": {},
   "source": [
    "## Data Cleaning"
   ]
  },
  {
   "cell_type": "markdown",
   "metadata": {},
   "source": [
    "We need to subset our datasets to English Premiere League matches"
   ]
  },
  {
   "cell_type": "code",
   "execution_count": 13,
   "metadata": {},
   "outputs": [],
   "source": [
    "#TODO league id's are correct now, no need to this cleaning"
   ]
  },
  {
   "cell_type": "code",
   "execution_count": 6,
   "metadata": {},
   "outputs": [],
   "source": [
    "PREMIERE_LEAGUE_ID = 148\n",
    "matches = matches[matches['league_id'] == PREMIERE_LEAGUE_ID].reset_index(drop=True)"
   ]
  },
  {
   "cell_type": "code",
   "execution_count": 7,
   "metadata": {},
   "outputs": [
    {
     "name": "stdout",
     "output_type": "stream",
     "text": [
      "match_awayteam_id\n",
      "[2614 2626 2629 2641 2617 2612 2628 2615 2619 2627 2621 2630 2646 2611\n",
      " 2613 2616 2620 2632 2623 2654]\n",
      "match_hometeam_id\n",
      "[2619 2623 2621 2654 2616 2627 2620 2612 2626 2614 2611 2613 2615 2617\n",
      " 2630 2628 2629 2646 2641 2632]\n",
      "match_id\n",
      "[ 13331  13329  13327  13456  13324  13323  13322  13317  13318  13319\n",
      "  13315  13314  13422  13307  13308  13306  13305  13304  13303  13302\n",
      "  13301  13298  13297  13296  13398  13295  13294  13292  13291  13288\n",
      "  13287  13284  13283  13282  13278  13276  13275  13274  60198  55127\n",
      "  55667  55668  55670  55245  55246  55247  55248  58502  58505  58507\n",
      "  58506  58509  59085  62318  62462  62463  62466  63000  63001  63489\n",
      "  63490  63491  63569  63572  63571  63927  63928  63932  63930  63934\n",
      "  64431  64432  66081  66135  66134  66139  66138  66140  66509  66512\n",
      "  66511  66510  66515  66288  66989  67049  67171  67251  67253  67252\n",
      "  67257  67258  67298  67259  67507  67512  67509  67508  67511  67620\n",
      "  67649  67750  67747  67751  67753  67883  67895  67896  67899  67984\n",
      "  67987  68013  68031  68080  68208  68217  68528  68621  68875  68879\n",
      "  68876  68881  69166  69167  69887  69893  69888  69891  69889  69981\n",
      "  69894  70273  70876  71398  71725  72112  72139  72219  72221  72218\n",
      "  72220  72224  72604  72606  72610  72743  73099  73100  73510  74222\n",
      "  74223  74226  74227  74793  74794  75741  77166  77539  77540  77537\n",
      "  77542  78121  78122  78282  79010  79329  79330  79335  79981  79982\n",
      "  80487  81152  81153  81155  81157  81158  81331  81838  81839  83078\n",
      "  83373  86484  86485  86490  86488  86491  87126  87868  88353  88559\n",
      "  88354  88358  88356  88360  89083  89084  89690  90197  90198  90199\n",
      "  90202  90203  91031  91686  91791  92084  83072  92372  92654  92854\n",
      "  92987  93695  94852  94851  94855  94271  94272  95587  96065  96219\n",
      "  96220  96222  96795  96794  83075  83781  82860  83780  98616  98617\n",
      "  98611  98608  98613  98612  98614  99967 109053 109187 109952 111926\n",
      " 114832 114835 115000 114833 114836 115593 115595 117118 116112 116116\n",
      " 116114 116113 116117 117254 117256 118191 118444 119156 119159 119158\n",
      " 119353 119161 119162 119836 119837 124180 124181 124185 124186 124801\n",
      " 124802 125993 127458 127454 127456 127459 127460 128087 128088 130462\n",
      " 131231 131236 131235 131237 131232 131238 133573 134356 134610 134612\n",
      " 134609 134613 135815 135816 140194 140198 140195 140200 140199 140197\n",
      " 141486 142626 142767 143407 143404 143409 144671 144672 144673 145697\n",
      " 145882 146069 146818 146820 146821 146822 146823 146824 147980 147981\n",
      " 149790 149791 149789 149792 150842 150844 150843 154513 154516 154517\n",
      " 154518 154519 155388 156200 156848 156849 156847 156845 156850 157536\n",
      " 157537 158697 158699 158541 158538 158539 158543 158542 159175 159177\n",
      " 159180 159181 159182 159814 160597 161169 161170 161174 161172 161695\n",
      " 161696 161697 162558 162557 162714 162816 162818 162817 162820 162822\n",
      " 163313 163723 163728 163725 163726 163729 163730 163937 164013 164017\n",
      " 164016 164018 164261 164262 164263 164264 164406 164539 164537 164540\n",
      " 164536 164541 164600 164854 165507 165601 166016 166021 166017 166020\n",
      " 166022 166443 166444 167048 167624 167629 167627 167626 167625 167630\n",
      " 167631 169514 169880 169878 169790 170312 171045 171047 171046 171181\n",
      " 171182 171183 171184 171719 171721 171720 171724 172352 172353 173205\n",
      " 173464 173826 174033 174031 174029 174034 174641 174642 175509 177974\n",
      " 178780 178781 178783 179609 179610 180698 180699 180817 180822 180821\n",
      " 180820 180819 181345 181349 181348 181346 181351 182205 182207 183809\n",
      " 183813 183814 183815 184816 184817 184818 187081 186626 186624 187083\n",
      " 187711 192011 192014 192015 192012 192016 193190 194200 194380 179608\n",
      " 187709 195030 195341 195339 195864 196506 197648 197783 198261 198595\n",
      " 198598 198599 199851 199852 200965 201241 202228 202231 202232 202233\n",
      " 203192 203193 203798 204186 186627 186629 204375 205061 205062 205064\n",
      " 205065 205066 207174 206167 206168 207988 208233 208234 208237 209568\n",
      " 209342 209344 210471 212429 212423 212425 212422 212430 212421 212426\n",
      " 214664 218349 218856 237422 237423 267786 237437 224424 224425 224428\n",
      " 224429 224427 224426 224430 224432 224431 224433 224434 224435 224436\n",
      " 224442 224438 224440 224439 224441 224437 224443 224444 224449 224450\n",
      " 224446 224448 224452 224447 224445 224453 224451 224462 224460 224459\n",
      " 224461 224457 224463 224456 224455 224458 224454 224467 224468 224470\n",
      " 224473 224471 224466 224469 224465 224472 224464 224482 224479 224480\n",
      " 224475 224478 224481 224483 224477 224476 224474 307209 224491 224486\n",
      " 224492 224485 224493 224484 224487 224488 224489 224490 224495 224497\n",
      " 224496 224500 224502 224503 224494 224501 224498 224499]\n",
      "epoch\n",
      "[1505561400 1505570400 1505651400 1505660400 1506166200 1506175200\n",
      " 1506184200 1506265200 1506537900 1506780000 1506789000 1506855600\n",
      " 1506863700 1506871800 1507980600 1507989600 1507998600 1508070600\n",
      " 1508079600 1508526000 1508585400 1508594400 1508675400 1508684400\n",
      " 1509190200 1509199200 1509208200 1509280200 1509289200 1509390000\n",
      " 1509475500 1509804000 1509813000 1509879600 1509887700 1509895800\n",
      " 1511004600 1511013600 1511022600 1511103600 1511550000 1511618400\n",
      " 1511627400 1511699400 1511701200 1511894700 1511895600 1511981100\n",
      " 1511982000 1512214200 1512223200 1512232200 1512304200 1512313200\n",
      " 1513105200 1513190700 1513191600 1513423800 1513432800 1513441800\n",
      " 1513524600 1513709100 1513795500 1513968300 1514028600 1514037600\n",
      " 1514046600 1514054700 1514287800 1514296800 1514400300 1514487600\n",
      " 1514642400 1514651400 1514718000 1514806200 1514815200 1514824200\n",
      " 1514918700 1514919600 1515005100 1515092400 1515178500 1515247200\n",
      " 1515256200 1515437100 1515610800 1515852000 1515861000 1515933000\n",
      " 1515942000 1516447800 1516456800 1516465800 1516546800 1516820400\n",
      " 1517061600 1517142600 1517337900 1517424300 1517425200 1517657400\n",
      " 1517666400 1517675400 1517750100 1517758200 1517857200 1518262200\n",
      " 1518271200 1518280200 1518354900 1518363000 1518806700 1519238700\n",
      " 1519480800 1519489800 1519556400 1519563900 1519572600 1519929900\n",
      " 1520076600 1520085600 1520094600 1520166600 1520175600 1520276400\n",
      " 1520681400 1520690400 1520699400 1520771400 1520780400 1521304200\n",
      " 1521312300 1522495800 1522504800 1522513800 1522594800 1522867500\n",
      " 1523100600 1523109600 1523118600 1523193300 1523201400 1523385900\n",
      " 1523705400 1523714400 1523723400 1523731500 1523795400 1523990700\n",
      " 1524077100 1524163500 1524319200 1524327300 1524400200 1524405600\n",
      " 1524510000 1524924000 1525007700 1525015800 1525114800 1525460400\n",
      " 1525528800 1525537800 1525620600 1525891500 1525892400 1525977900\n",
      " 1526220000 1526746500 1532544300 1532563200 1532898000 1533477600\n",
      " 1534600800 1534609800 1534681800 1534690800 1534791600 1535196600\n",
      " 1535205600 1535214600 1535286600 1535295600 1535396400 1535481900\n",
      " 1535801400 1535810400 1535819400 1535900400 1537011000 1537020000\n",
      " 1537029000 1537101000 1537110000 1537210800 1537624800 1537633800\n",
      " 1537705800 1537714800 1537987500 1538220600 1538229600 1538238600\n",
      " 1538420400 1538766000 1538834400 1538843400 1538918100 1538926200\n",
      " 1540035000 1540044000 1540134000 1540234800 1540320300 1540648800\n",
      " 1540657800 1540729800 1540738800 1540839600 1540925100 1541011500\n",
      " 1541244600 1541253600 1541262600 1541270700 1541340000 1541343600\n",
      " 1541858400 1541867400 1541942100 1541950200 1543068000 1543077000\n",
      " 1543149000 1543260600 1543672800 1543681800 1543755900 1543763700\n",
      " 1543949100 1543950000 1544035500 1544036400 1544268600 1544277600\n",
      " 1544286600 1544294700 1544367600 1544468400 1544873400 1544882400\n",
      " 1544963400 1544972400 1545245100 1545418800 1545478200 1545487200\n",
      " 1545577200 1545832800 1545840900 1545849000 1545936300 1546092000\n",
      " 1546101000 1546167600 1546175700 1546183800 1546342200 1546454700\n",
      " 1546455600 1546542000 1546687800 1546886700 1546974000 1547292600\n",
      " 1547301600 1547310600 1547385300 1547393400 1547492400 1547897400\n",
      " 1547906400 1547915400 1548442500 1548511200 1548601200 1548787500\n",
      " 1548788400 1548873900 1548874800 1549107000 1549116000 1549199100\n",
      " 1549207800 1549306800 1549478700 1549651500 1549720800 1549729800\n",
      " 1549801800 1549810800 1549911600 1550514600 1550921400 1550930400\n",
      " 1550939400 1551013500 1551206700 1551207600 1551293100 1551294000\n",
      " 1551526200 1551535200 1551544200 1551610800 1551626100 1552131000\n",
      " 1552140000 1552149000 1552215600 1552223100 1552231800 1552734900\n",
      " 1552744800 1552762500 1552836600 1553954400 1553963400 1554046200\n",
      " 1554145200 1554230700 1554317100 1554490800 1554559200 1554568200\n",
      " 1554642300 1554750000 1554836400 1555095600 1555164000 1555173000\n",
      " 1555247100 1555255800 1555354800 1555527600 1555759800 1555768800\n",
      " 1555777800 1555849800 1555858800 1555959600 1556045100 1556131500\n",
      " 1556132400 1556364600 1556373600 1556382600 1556449200 1556456700\n",
      " 1556465400 1556910000 1556969400 1556978400 1556995500 1557055800\n",
      " 1557061200 1557070200 1557169200 1557669600 1558195200 1559156400\n",
      " 1559415600 1563357600 1563366600 1563613200 1564054200 1565377200\n",
      " 1565436600 1565445600 1565454600 1565528400 1565537400 1566041400\n",
      " 1566050400 1566059400 1566133200 1566142200 1566241200 1566586800\n",
      " 1566646200 1566655200 1566664200 1566738000 1566747000 1567251000\n",
      " 1567260000 1567269000 1567342800 1567351800 1568460600 1568469600\n",
      " 1568478600 1568552400 1568561400 1568660400 1569006000 1569065400\n",
      " 1569074400 1569083400 1569157200 1569166200 1569437100 1569670200\n",
      " 1569679200 1569688200 1569771000 1569870000 1570275000 1570284000\n",
      " 1570293000 1570366800 1570375800]\n",
      "match_status\n",
      "['Finished']\n",
      "match_live\n",
      "[0]\n",
      "match_hometeam_name\n",
      "['Crystal Palace' 'Watford' 'Liverpool' 'Sheffield Utd' 'Chelsea'\n",
      " 'Manchester United' 'West Ham' 'Everton' 'Manchester City' 'Southampton'\n",
      " 'Leicester' 'Brighton' 'Bournemouth' 'Arsenal' 'Newcastle Utd'\n",
      " 'Tottenham' 'Burnley' 'Wolves' 'Norwich' 'Newcastle' 'Aston Villa'\n",
      " 'West Ham (Eng)' 'Manchester Utd']\n",
      "match_awayteam_name\n",
      "['Southampton' 'Manchester City' 'Burnley' 'Norwich' 'Arsenal' 'Everton'\n",
      " 'Tottenham' 'Bournemouth' 'Crystal Palace' 'Manchester United'\n",
      " 'Liverpool' 'Newcastle Utd' 'Wolves' 'Leicester' 'Brighton' 'Chelsea'\n",
      " 'West Ham' 'Aston Villa' 'Watford' 'Newcastle' 'Sheffield Utd'\n",
      " 'Aston Villa (Eng)' 'Manchester Utd']\n",
      "match_hometeam_score\n",
      "[0. 1. 4. 2. 5. 3. 6. 8.]\n",
      "match_awayteam_score\n",
      "[1. 6. 0. 3. 2. 5. 4.]\n",
      "match_hometeam_halftime_score\n",
      "[ 0.  1.  2.  3.  4. nan  5.]\n",
      "match_awayteam_halftime_score\n",
      "[ 1.  3.  0.  2. nan]\n",
      "match_hometeam_extra_score\n",
      "[ 0.  1.  2.  3.  4. nan  5.]\n",
      "match_awayteam_extra_score\n",
      "[ 1.  3.  0.  2. nan]\n",
      "match_hometeam_penalty_score\n",
      "[nan]\n",
      "match_awayteam_penalty_score\n",
      "[nan]\n",
      "league_id\n",
      "[148]\n"
     ]
    }
   ],
   "source": [
    "# observing unique values for each column to see whether something's wrong\n",
    "\n",
    "for cols in matches.columns:\n",
    "  print(cols)\n",
    "  print(matches[cols].unique())"
   ]
  },
  {
   "cell_type": "markdown",
   "metadata": {},
   "source": [
    "We can observe that there are some away teams that are not in English Premiere League (probably international leagues or preparation matches) And there are some matches with NaN scores, and last 5 columns have single observation, they bring no additional information."
   ]
  },
  {
   "cell_type": "code",
   "execution_count": 8,
   "metadata": {},
   "outputs": [
    {
     "data": {
      "text/html": [
       "<div>\n",
       "<style scoped>\n",
       "    .dataframe tbody tr th:only-of-type {\n",
       "        vertical-align: middle;\n",
       "    }\n",
       "\n",
       "    .dataframe tbody tr th {\n",
       "        vertical-align: top;\n",
       "    }\n",
       "\n",
       "    .dataframe thead th {\n",
       "        text-align: right;\n",
       "    }\n",
       "</style>\n",
       "<table border=\"1\" class=\"dataframe\">\n",
       "  <thead>\n",
       "    <tr style=\"text-align: right;\">\n",
       "      <th></th>\n",
       "      <th>match_hometeam_id</th>\n",
       "      <th>match_hometeam_name</th>\n",
       "    </tr>\n",
       "  </thead>\n",
       "  <tbody>\n",
       "    <tr>\n",
       "      <th>0</th>\n",
       "      <td>2611</td>\n",
       "      <td>Leicester</td>\n",
       "    </tr>\n",
       "    <tr>\n",
       "      <th>1</th>\n",
       "      <td>2612</td>\n",
       "      <td>Everton</td>\n",
       "    </tr>\n",
       "    <tr>\n",
       "      <th>2</th>\n",
       "      <td>2613</td>\n",
       "      <td>Brighton</td>\n",
       "    </tr>\n",
       "    <tr>\n",
       "      <th>3</th>\n",
       "      <td>2614</td>\n",
       "      <td>Southampton</td>\n",
       "    </tr>\n",
       "    <tr>\n",
       "      <th>4</th>\n",
       "      <td>2615</td>\n",
       "      <td>Bournemouth</td>\n",
       "    </tr>\n",
       "  </tbody>\n",
       "</table>\n",
       "</div>"
      ],
      "text/plain": [
       "   match_hometeam_id match_hometeam_name\n",
       "0               2611           Leicester\n",
       "1               2612             Everton\n",
       "2               2613            Brighton\n",
       "3               2614         Southampton\n",
       "4               2615         Bournemouth"
      ]
     },
     "execution_count": 8,
     "metadata": {},
     "output_type": "execute_result"
    }
   ],
   "source": [
    "# unique home teams\n",
    "\n",
    "home_teams = (matches[['match_hometeam_id', 'match_hometeam_name']]\n",
    "              .sort_values('match_hometeam_id')\n",
    "              .drop_duplicates()\n",
    "              .reset_index(drop=True))\n",
    "home_teams.head()"
   ]
  },
  {
   "cell_type": "code",
   "execution_count": 9,
   "metadata": {},
   "outputs": [
    {
     "data": {
      "text/html": [
       "<div>\n",
       "<style scoped>\n",
       "    .dataframe tbody tr th:only-of-type {\n",
       "        vertical-align: middle;\n",
       "    }\n",
       "\n",
       "    .dataframe tbody tr th {\n",
       "        vertical-align: top;\n",
       "    }\n",
       "\n",
       "    .dataframe thead th {\n",
       "        text-align: right;\n",
       "    }\n",
       "</style>\n",
       "<table border=\"1\" class=\"dataframe\">\n",
       "  <thead>\n",
       "    <tr style=\"text-align: right;\">\n",
       "      <th></th>\n",
       "      <th>match_awayteam_id</th>\n",
       "      <th>match_awayteam_name</th>\n",
       "    </tr>\n",
       "  </thead>\n",
       "  <tbody>\n",
       "    <tr>\n",
       "      <th>0</th>\n",
       "      <td>2611</td>\n",
       "      <td>Leicester</td>\n",
       "    </tr>\n",
       "    <tr>\n",
       "      <th>1</th>\n",
       "      <td>2612</td>\n",
       "      <td>Everton</td>\n",
       "    </tr>\n",
       "    <tr>\n",
       "      <th>2</th>\n",
       "      <td>2613</td>\n",
       "      <td>Brighton</td>\n",
       "    </tr>\n",
       "    <tr>\n",
       "      <th>3</th>\n",
       "      <td>2614</td>\n",
       "      <td>Southampton</td>\n",
       "    </tr>\n",
       "    <tr>\n",
       "      <th>4</th>\n",
       "      <td>2615</td>\n",
       "      <td>Bournemouth</td>\n",
       "    </tr>\n",
       "  </tbody>\n",
       "</table>\n",
       "</div>"
      ],
      "text/plain": [
       "   match_awayteam_id match_awayteam_name\n",
       "0               2611           Leicester\n",
       "1               2612             Everton\n",
       "2               2613            Brighton\n",
       "3               2614         Southampton\n",
       "4               2615         Bournemouth"
      ]
     },
     "execution_count": 9,
     "metadata": {},
     "output_type": "execute_result"
    }
   ],
   "source": [
    "away_teams = (matches[['match_awayteam_id', 'match_awayteam_name']]\n",
    "              .sort_values('match_awayteam_id')\n",
    "              .drop_duplicates()\n",
    "              .reset_index(drop=True))\n",
    "away_teams.head()"
   ]
  },
  {
   "cell_type": "code",
   "execution_count": 10,
   "metadata": {},
   "outputs": [
    {
     "data": {
      "text/html": [
       "<div>\n",
       "<style scoped>\n",
       "    .dataframe tbody tr th:only-of-type {\n",
       "        vertical-align: middle;\n",
       "    }\n",
       "\n",
       "    .dataframe tbody tr th {\n",
       "        vertical-align: top;\n",
       "    }\n",
       "\n",
       "    .dataframe thead th {\n",
       "        text-align: right;\n",
       "    }\n",
       "</style>\n",
       "<table border=\"1\" class=\"dataframe\">\n",
       "  <thead>\n",
       "    <tr style=\"text-align: right;\">\n",
       "      <th></th>\n",
       "      <th>match_hometeam_id</th>\n",
       "      <th>match_hometeam_name</th>\n",
       "      <th>match_awayteam_id</th>\n",
       "      <th>match_awayteam_name</th>\n",
       "    </tr>\n",
       "  </thead>\n",
       "  <tbody>\n",
       "    <tr>\n",
       "      <th>0</th>\n",
       "      <td>2611</td>\n",
       "      <td>Leicester</td>\n",
       "      <td>2611</td>\n",
       "      <td>Leicester</td>\n",
       "    </tr>\n",
       "    <tr>\n",
       "      <th>1</th>\n",
       "      <td>2612</td>\n",
       "      <td>Everton</td>\n",
       "      <td>2612</td>\n",
       "      <td>Everton</td>\n",
       "    </tr>\n",
       "    <tr>\n",
       "      <th>2</th>\n",
       "      <td>2616</td>\n",
       "      <td>Everton</td>\n",
       "      <td>2612</td>\n",
       "      <td>Everton</td>\n",
       "    </tr>\n",
       "    <tr>\n",
       "      <th>3</th>\n",
       "      <td>2613</td>\n",
       "      <td>Brighton</td>\n",
       "      <td>2613</td>\n",
       "      <td>Brighton</td>\n",
       "    </tr>\n",
       "    <tr>\n",
       "      <th>4</th>\n",
       "      <td>2614</td>\n",
       "      <td>Southampton</td>\n",
       "      <td>2614</td>\n",
       "      <td>Southampton</td>\n",
       "    </tr>\n",
       "    <tr>\n",
       "      <th>5</th>\n",
       "      <td>2615</td>\n",
       "      <td>Bournemouth</td>\n",
       "      <td>2615</td>\n",
       "      <td>Bournemouth</td>\n",
       "    </tr>\n",
       "    <tr>\n",
       "      <th>6</th>\n",
       "      <td>2616</td>\n",
       "      <td>Chelsea</td>\n",
       "      <td>2616</td>\n",
       "      <td>Chelsea</td>\n",
       "    </tr>\n",
       "    <tr>\n",
       "      <th>7</th>\n",
       "      <td>2617</td>\n",
       "      <td>Arsenal</td>\n",
       "      <td>2617</td>\n",
       "      <td>Arsenal</td>\n",
       "    </tr>\n",
       "    <tr>\n",
       "      <th>8</th>\n",
       "      <td>2619</td>\n",
       "      <td>Crystal Palace</td>\n",
       "      <td>2619</td>\n",
       "      <td>Crystal Palace</td>\n",
       "    </tr>\n",
       "    <tr>\n",
       "      <th>9</th>\n",
       "      <td>2620</td>\n",
       "      <td>West Ham</td>\n",
       "      <td>2620</td>\n",
       "      <td>West Ham</td>\n",
       "    </tr>\n",
       "    <tr>\n",
       "      <th>10</th>\n",
       "      <td>2621</td>\n",
       "      <td>Liverpool</td>\n",
       "      <td>2621</td>\n",
       "      <td>Liverpool</td>\n",
       "    </tr>\n",
       "    <tr>\n",
       "      <th>11</th>\n",
       "      <td>2623</td>\n",
       "      <td>Watford</td>\n",
       "      <td>2623</td>\n",
       "      <td>Watford</td>\n",
       "    </tr>\n",
       "    <tr>\n",
       "      <th>12</th>\n",
       "      <td>2623</td>\n",
       "      <td>Watford</td>\n",
       "      <td>2627</td>\n",
       "      <td>Watford</td>\n",
       "    </tr>\n",
       "    <tr>\n",
       "      <th>13</th>\n",
       "      <td>2626</td>\n",
       "      <td>Manchester City</td>\n",
       "      <td>2626</td>\n",
       "      <td>Manchester City</td>\n",
       "    </tr>\n",
       "    <tr>\n",
       "      <th>14</th>\n",
       "      <td>2627</td>\n",
       "      <td>Manchester Utd</td>\n",
       "      <td>2627</td>\n",
       "      <td>Manchester Utd</td>\n",
       "    </tr>\n",
       "    <tr>\n",
       "      <th>15</th>\n",
       "      <td>2627</td>\n",
       "      <td>Manchester United</td>\n",
       "      <td>2627</td>\n",
       "      <td>Manchester United</td>\n",
       "    </tr>\n",
       "    <tr>\n",
       "      <th>16</th>\n",
       "      <td>2628</td>\n",
       "      <td>Tottenham</td>\n",
       "      <td>2628</td>\n",
       "      <td>Tottenham</td>\n",
       "    </tr>\n",
       "    <tr>\n",
       "      <th>17</th>\n",
       "      <td>2629</td>\n",
       "      <td>Burnley</td>\n",
       "      <td>2629</td>\n",
       "      <td>Burnley</td>\n",
       "    </tr>\n",
       "    <tr>\n",
       "      <th>18</th>\n",
       "      <td>2630</td>\n",
       "      <td>Newcastle Utd</td>\n",
       "      <td>2630</td>\n",
       "      <td>Newcastle Utd</td>\n",
       "    </tr>\n",
       "    <tr>\n",
       "      <th>19</th>\n",
       "      <td>2630</td>\n",
       "      <td>Newcastle</td>\n",
       "      <td>2630</td>\n",
       "      <td>Newcastle</td>\n",
       "    </tr>\n",
       "    <tr>\n",
       "      <th>20</th>\n",
       "      <td>2632</td>\n",
       "      <td>Aston Villa</td>\n",
       "      <td>2632</td>\n",
       "      <td>Aston Villa</td>\n",
       "    </tr>\n",
       "    <tr>\n",
       "      <th>21</th>\n",
       "      <td>2641</td>\n",
       "      <td>Norwich</td>\n",
       "      <td>2641</td>\n",
       "      <td>Norwich</td>\n",
       "    </tr>\n",
       "    <tr>\n",
       "      <th>22</th>\n",
       "      <td>2646</td>\n",
       "      <td>Wolves</td>\n",
       "      <td>2646</td>\n",
       "      <td>Wolves</td>\n",
       "    </tr>\n",
       "    <tr>\n",
       "      <th>23</th>\n",
       "      <td>2654</td>\n",
       "      <td>Sheffield Utd</td>\n",
       "      <td>2654</td>\n",
       "      <td>Sheffield Utd</td>\n",
       "    </tr>\n",
       "  </tbody>\n",
       "</table>\n",
       "</div>"
      ],
      "text/plain": [
       "    match_hometeam_id match_hometeam_name  match_awayteam_id  \\\n",
       "0                2611           Leicester               2611   \n",
       "1                2612             Everton               2612   \n",
       "2                2616             Everton               2612   \n",
       "3                2613            Brighton               2613   \n",
       "4                2614         Southampton               2614   \n",
       "5                2615         Bournemouth               2615   \n",
       "6                2616             Chelsea               2616   \n",
       "7                2617             Arsenal               2617   \n",
       "8                2619      Crystal Palace               2619   \n",
       "9                2620            West Ham               2620   \n",
       "10               2621           Liverpool               2621   \n",
       "11               2623             Watford               2623   \n",
       "12               2623             Watford               2627   \n",
       "13               2626     Manchester City               2626   \n",
       "14               2627      Manchester Utd               2627   \n",
       "15               2627   Manchester United               2627   \n",
       "16               2628           Tottenham               2628   \n",
       "17               2629             Burnley               2629   \n",
       "18               2630       Newcastle Utd               2630   \n",
       "19               2630           Newcastle               2630   \n",
       "20               2632         Aston Villa               2632   \n",
       "21               2641             Norwich               2641   \n",
       "22               2646              Wolves               2646   \n",
       "23               2654       Sheffield Utd               2654   \n",
       "\n",
       "   match_awayteam_name  \n",
       "0            Leicester  \n",
       "1              Everton  \n",
       "2              Everton  \n",
       "3             Brighton  \n",
       "4          Southampton  \n",
       "5          Bournemouth  \n",
       "6              Chelsea  \n",
       "7              Arsenal  \n",
       "8       Crystal Palace  \n",
       "9             West Ham  \n",
       "10           Liverpool  \n",
       "11             Watford  \n",
       "12             Watford  \n",
       "13     Manchester City  \n",
       "14      Manchester Utd  \n",
       "15   Manchester United  \n",
       "16           Tottenham  \n",
       "17             Burnley  \n",
       "18       Newcastle Utd  \n",
       "19           Newcastle  \n",
       "20         Aston Villa  \n",
       "21             Norwich  \n",
       "22              Wolves  \n",
       "23       Sheffield Utd  "
      ]
     },
     "execution_count": 10,
     "metadata": {},
     "output_type": "execute_result"
    }
   ],
   "source": [
    "# finding teams that are included in our matches data as both away team and home team\n",
    "\n",
    "premiere_league_teams = home_teams.merge(away_teams, left_on='match_hometeam_name', right_on='match_awayteam_name')\n",
    "premiere_league_teams"
   ]
  },
  {
   "cell_type": "code",
   "execution_count": 11,
   "metadata": {},
   "outputs": [
    {
     "name": "stdout",
     "output_type": "stream",
     "text": [
      "20\n"
     ]
    }
   ],
   "source": [
    "# observe ManU stored two times as Manchester United and Manchester Utd\n",
    "# find unique match ids and see how many teams are there\n",
    "\n",
    "premiere_league_team_ids = premiere_league_teams['match_awayteam_id'].unique().tolist()\n",
    "print(len(premiere_league_team_ids))"
   ]
  },
  {
   "cell_type": "code",
   "execution_count": 12,
   "metadata": {},
   "outputs": [
    {
     "name": "stdout",
     "output_type": "stream",
     "text": [
      "618\n",
      "618\n"
     ]
    }
   ],
   "source": [
    "print(len(matches))\n",
    "matches = matches[(matches['match_awayteam_id'].isin(premiere_league_team_ids)) &\n",
    "                  (matches['match_hometeam_id'].isin(premiere_league_team_ids))]\n",
    "print(len(matches))"
   ]
  },
  {
   "cell_type": "code",
   "execution_count": 14,
   "metadata": {},
   "outputs": [],
   "source": [
    "# Converting epoch column to datetime\n",
    "matches['timestamp'] = matches['epoch'].apply(lambda x: dt.datetime.fromtimestamp(x))\n",
    "bets['timestamp'] = bets['odd_epoch'].apply(lambda x: dt.datetime.fromtimestamp(x))"
   ]
  },
  {
   "cell_type": "code",
   "execution_count": 15,
   "metadata": {},
   "outputs": [
    {
     "data": {
      "text/html": [
       "<div>\n",
       "<style scoped>\n",
       "    .dataframe tbody tr th:only-of-type {\n",
       "        vertical-align: middle;\n",
       "    }\n",
       "\n",
       "    .dataframe tbody tr th {\n",
       "        vertical-align: top;\n",
       "    }\n",
       "\n",
       "    .dataframe thead th {\n",
       "        text-align: right;\n",
       "    }\n",
       "</style>\n",
       "<table border=\"1\" class=\"dataframe\">\n",
       "  <thead>\n",
       "    <tr style=\"text-align: right;\">\n",
       "      <th></th>\n",
       "      <th>match_awayteam_id</th>\n",
       "      <th>match_hometeam_id</th>\n",
       "      <th>match_id</th>\n",
       "      <th>epoch</th>\n",
       "      <th>match_status</th>\n",
       "      <th>match_live</th>\n",
       "      <th>match_hometeam_name</th>\n",
       "      <th>match_awayteam_name</th>\n",
       "      <th>match_hometeam_score</th>\n",
       "      <th>match_awayteam_score</th>\n",
       "      <th>match_hometeam_halftime_score</th>\n",
       "      <th>match_awayteam_halftime_score</th>\n",
       "      <th>match_hometeam_extra_score</th>\n",
       "      <th>match_awayteam_extra_score</th>\n",
       "      <th>match_hometeam_penalty_score</th>\n",
       "      <th>match_awayteam_penalty_score</th>\n",
       "      <th>league_id</th>\n",
       "      <th>timestamp</th>\n",
       "    </tr>\n",
       "  </thead>\n",
       "  <tbody>\n",
       "  </tbody>\n",
       "</table>\n",
       "</div>"
      ],
      "text/plain": [
       "Empty DataFrame\n",
       "Columns: [match_awayteam_id, match_hometeam_id, match_id, epoch, match_status, match_live, match_hometeam_name, match_awayteam_name, match_hometeam_score, match_awayteam_score, match_hometeam_halftime_score, match_awayteam_halftime_score, match_hometeam_extra_score, match_awayteam_extra_score, match_hometeam_penalty_score, match_awayteam_penalty_score, league_id, timestamp]\n",
       "Index: []"
      ]
     },
     "execution_count": 15,
     "metadata": {},
     "output_type": "execute_result"
    }
   ],
   "source": [
    "# matches whose match_status is NaN are not played yet, we can remove these data from our base data.\n",
    "matches[matches['match_hometeam_score'].isnull()].head()"
   ]
  },
  {
   "cell_type": "code",
   "execution_count": 16,
   "metadata": {},
   "outputs": [],
   "source": [
    "matches = matches.dropna(subset=['match_hometeam_score', 'match_awayteam_score'])"
   ]
  },
  {
   "cell_type": "markdown",
   "metadata": {},
   "source": [
    "## Visualization"
   ]
  },
  {
   "cell_type": "code",
   "execution_count": 18,
   "metadata": {},
   "outputs": [
    {
     "data": {
      "text/plain": [
       "[<matplotlib.lines.Line2D at 0x1f4601aaba8>]"
      ]
     },
     "execution_count": 18,
     "metadata": {},
     "output_type": "execute_result"
    },
    {
     "data": {
      "image/png": "[encoded data removed]",
      "text/plain": [
       "<Figure size 432x288 with 1 Axes>"
      ]
     },
     "metadata": {
      "needs_background": "light"
     },
     "output_type": "display_data"
    }
   ],
   "source": [
    "sns.distplot(matches.match_hometeam_score, kde=False, bins = 8)\n",
    "plt.xlabel(\"Home Goals\")\n",
    "plt.ylabel(\"Number of Games\")\n",
    "mlest = matches.match_hometeam_score.mean()\n",
    "k = np.arange(matches.match_hometeam_score.max()+1)\n",
    "\n",
    "plt.plot(k+0.5, poisson.pmf(k, mlest)*len(matches.match_hometeam_score), 'bo-')"
   ]
  },
  {
   "cell_type": "code",
   "execution_count": 19,
   "metadata": {},
   "outputs": [
    {
     "data": {
      "text/plain": [
       "[<matplotlib.lines.Line2D at 0x1f46021c320>]"
      ]
     },
     "execution_count": 19,
     "metadata": {},
     "output_type": "execute_result"
    },
    {
     "data": {
      "image/png": "[encoded data removed]",
      "text/plain": [
       "<Figure size 432x288 with 1 Axes>"
      ]
     },
     "metadata": {
      "needs_background": "light"
     },
     "output_type": "display_data"
    }
   ],
   "source": [
    "sns.distplot(matches.match_awayteam_score, kde=False, bins = 6)\n",
    "plt.xlabel(\"Away Goals\")\n",
    "plt.ylabel(\"Number of Games\")\n",
    "k = np.arange(matches.match_awayteam_score.max()+1) # observed values for poisson\n",
    "mean = matches.match_awayteam_score.mean() # mean values of observations\n",
    "\n",
    "plt.plot(k+0.5,\n",
    "         poisson.pmf(k, mean)*len(matches.match_awayteam_score),\n",
    "         'bo-',\n",
    "         alpha=1)"
   ]
  },
  {
   "cell_type": "code",
   "execution_count": 20,
   "metadata": {
    "lines_to_next_cell": 2
   },
   "outputs": [
    {
     "data": {
      "text/plain": [
       "Text(0, 0.5, 'Number of Games')"
      ]
     },
     "execution_count": 20,
     "metadata": {},
     "output_type": "execute_result"
    },
    {
     "data": {
      "image/png": "[encoded data removed]",
      "text/plain": [
       "<Figure size 432x288 with 1 Axes>"
      ]
     },
     "metadata": {
      "needs_background": "light"
     },
     "output_type": "display_data"
    }
   ],
   "source": [
    "sns.distplot(matches.match_hometeam_score - matches.match_awayteam_score,\n",
    "             kde=False, bins = 13, fit=gamma)\n",
    "plt.xlabel(\"Home Goals - Away Goals\")\n",
    "plt.ylabel(\"Number of Games\")"
   ]
  },
  {
   "cell_type": "code",
   "execution_count": 21,
   "metadata": {},
   "outputs": [
    {
     "name": "stdout",
     "output_type": "stream",
     "text": [
      "Mean of home_score - away_score is 0.3737864077669903\n",
      "Std of home_score - away_score is 1.889429497135252\n"
     ]
    }
   ],
   "source": [
    "print('Mean of home_score - away_score is {}'.format((matches.match_hometeam_score - matches.match_awayteam_score).mean()))\n",
    "print('Std of home_score - away_score is {}'.format((matches.match_hometeam_score - matches.match_awayteam_score).std()))"
   ]
  },
  {
   "cell_type": "markdown",
   "metadata": {},
   "source": [
    "## 2)\n"
   ]
  },
  {
   "cell_type": "code",
   "execution_count": 22,
   "metadata": {},
   "outputs": [
    {
     "name": "stdout",
     "output_type": "stream",
     "text": [
      "Number of columns of bets data is 2114743\n",
      "Number of columns of bets data whose bettypestarts with odd (like odd_1 or odd_x2) is 675034\n",
      "Number of columns of bets data whose bettype starts with odd and of length 5 (like odd_1 or odd_2 or odd_x) is 417264\n"
     ]
    }
   ],
   "source": [
    "print('Number of columns of bets data is {}'.format(len(bets)))\n",
    "print('Number of columns of bets data whose bettype' +\n",
    "      'starts with odd (like odd_1 or odd_x2) is {}'\n",
    "      .format(len(bets[bets['variable'].str.startswith('odd')])))\n",
    "print('Number of columns of bets data whose bettype ' +\n",
    "      'starts with odd and of length 5 (like odd_1 or odd_2 or odd_x) is {}'\n",
    "      .format(len(bets[(bets['variable'].str.startswith('odd')) & (bets['variable'].str.len() == 5)])))"
   ]
  },
  {
   "cell_type": "code",
   "execution_count": 23,
   "metadata": {},
   "outputs": [],
   "source": [
    "bets = bets[(bets['variable'].str.startswith('odd')) & (bets['variable'].str.len() == 5)]"
   ]
  },
  {
   "cell_type": "code",
   "execution_count": 24,
   "metadata": {},
   "outputs": [
    {
     "data": {
      "text/html": [
       "<div>\n",
       "<style scoped>\n",
       "    .dataframe tbody tr th:only-of-type {\n",
       "        vertical-align: middle;\n",
       "    }\n",
       "\n",
       "    .dataframe tbody tr th {\n",
       "        vertical-align: top;\n",
       "    }\n",
       "\n",
       "    .dataframe thead th {\n",
       "        text-align: right;\n",
       "    }\n",
       "</style>\n",
       "<table border=\"1\" class=\"dataframe\">\n",
       "  <thead>\n",
       "    <tr style=\"text-align: right;\">\n",
       "      <th></th>\n",
       "      <th>match_id</th>\n",
       "      <th>odd_bookmakers</th>\n",
       "      <th>odd_epoch</th>\n",
       "      <th>variable</th>\n",
       "      <th>value</th>\n",
       "      <th>timestamp</th>\n",
       "    </tr>\n",
       "  </thead>\n",
       "  <tbody>\n",
       "    <tr>\n",
       "      <th>0</th>\n",
       "      <td>146845</td>\n",
       "      <td>BetOlimp</td>\n",
       "      <td>1486301854</td>\n",
       "      <td>odd_1</td>\n",
       "      <td>1.96</td>\n",
       "      <td>2017-02-05 16:37:34</td>\n",
       "    </tr>\n",
       "    <tr>\n",
       "      <th>1</th>\n",
       "      <td>151780</td>\n",
       "      <td>10Bet</td>\n",
       "      <td>1486314920</td>\n",
       "      <td>odd_1</td>\n",
       "      <td>2.15</td>\n",
       "      <td>2017-02-05 20:15:20</td>\n",
       "    </tr>\n",
       "    <tr>\n",
       "      <th>2</th>\n",
       "      <td>151780</td>\n",
       "      <td>18bet</td>\n",
       "      <td>1486314920</td>\n",
       "      <td>odd_1</td>\n",
       "      <td>2.17</td>\n",
       "      <td>2017-02-05 20:15:20</td>\n",
       "    </tr>\n",
       "    <tr>\n",
       "      <th>3</th>\n",
       "      <td>151780</td>\n",
       "      <td>1xBet</td>\n",
       "      <td>1486314920</td>\n",
       "      <td>odd_1</td>\n",
       "      <td>2.20</td>\n",
       "      <td>2017-02-05 20:15:20</td>\n",
       "    </tr>\n",
       "    <tr>\n",
       "      <th>4</th>\n",
       "      <td>151780</td>\n",
       "      <td>5Dimes</td>\n",
       "      <td>1486314920</td>\n",
       "      <td>odd_1</td>\n",
       "      <td>2.23</td>\n",
       "      <td>2017-02-05 20:15:20</td>\n",
       "    </tr>\n",
       "  </tbody>\n",
       "</table>\n",
       "</div>"
      ],
      "text/plain": [
       "   match_id odd_bookmakers   odd_epoch variable  value           timestamp\n",
       "0    146845       BetOlimp  1486301854    odd_1   1.96 2017-02-05 16:37:34\n",
       "1    151780          10Bet  1486314920    odd_1   2.15 2017-02-05 20:15:20\n",
       "2    151780          18bet  1486314920    odd_1   2.17 2017-02-05 20:15:20\n",
       "3    151780          1xBet  1486314920    odd_1   2.20 2017-02-05 20:15:20\n",
       "4    151780         5Dimes  1486314920    odd_1   2.23 2017-02-05 20:15:20"
      ]
     },
     "execution_count": 24,
     "metadata": {},
     "output_type": "execute_result"
    }
   ],
   "source": [
    "bets.head()"
   ]
  },
  {
   "cell_type": "code",
   "execution_count": 25,
   "metadata": {},
   "outputs": [
    {
     "data": {
      "text/html": [
       "<div>\n",
       "<style scoped>\n",
       "    .dataframe tbody tr th:only-of-type {\n",
       "        vertical-align: middle;\n",
       "    }\n",
       "\n",
       "    .dataframe tbody tr th {\n",
       "        vertical-align: top;\n",
       "    }\n",
       "\n",
       "    .dataframe thead th {\n",
       "        text-align: right;\n",
       "    }\n",
       "</style>\n",
       "<table border=\"1\" class=\"dataframe\">\n",
       "  <thead>\n",
       "    <tr style=\"text-align: right;\">\n",
       "      <th>variable</th>\n",
       "      <th>match_id</th>\n",
       "      <th>odd_bookmakers</th>\n",
       "      <th>timestamp</th>\n",
       "      <th>odd_1</th>\n",
       "      <th>odd_2</th>\n",
       "      <th>odd_x</th>\n",
       "    </tr>\n",
       "  </thead>\n",
       "  <tbody>\n",
       "    <tr>\n",
       "      <th>0</th>\n",
       "      <td>145899</td>\n",
       "      <td>10Bet</td>\n",
       "      <td>2017-03-12 11:03:01</td>\n",
       "      <td>6.75</td>\n",
       "      <td>1.29</td>\n",
       "      <td>5.25</td>\n",
       "    </tr>\n",
       "    <tr>\n",
       "      <th>1</th>\n",
       "      <td>145899</td>\n",
       "      <td>188BET</td>\n",
       "      <td>2017-03-12 11:03:01</td>\n",
       "      <td>4.95</td>\n",
       "      <td>1.43</td>\n",
       "      <td>4.60</td>\n",
       "    </tr>\n",
       "    <tr>\n",
       "      <th>2</th>\n",
       "      <td>145899</td>\n",
       "      <td>18bet</td>\n",
       "      <td>2017-03-12 11:03:01</td>\n",
       "      <td>5.35</td>\n",
       "      <td>1.43</td>\n",
       "      <td>4.30</td>\n",
       "    </tr>\n",
       "    <tr>\n",
       "      <th>3</th>\n",
       "      <td>145899</td>\n",
       "      <td>1xBet</td>\n",
       "      <td>2017-03-12 11:03:01</td>\n",
       "      <td>6.45</td>\n",
       "      <td>1.49</td>\n",
       "      <td>4.76</td>\n",
       "    </tr>\n",
       "    <tr>\n",
       "      <th>4</th>\n",
       "      <td>145899</td>\n",
       "      <td>888sport</td>\n",
       "      <td>2017-03-12 11:03:01</td>\n",
       "      <td>7.00</td>\n",
       "      <td>1.35</td>\n",
       "      <td>5.00</td>\n",
       "    </tr>\n",
       "  </tbody>\n",
       "</table>\n",
       "</div>"
      ],
      "text/plain": [
       "variable  match_id odd_bookmakers           timestamp  odd_1  odd_2  odd_x\n",
       "0           145899          10Bet 2017-03-12 11:03:01   6.75   1.29   5.25\n",
       "1           145899         188BET 2017-03-12 11:03:01   4.95   1.43   4.60\n",
       "2           145899          18bet 2017-03-12 11:03:01   5.35   1.43   4.30\n",
       "3           145899          1xBet 2017-03-12 11:03:01   6.45   1.49   4.76\n",
       "4           145899       888sport 2017-03-12 11:03:01   7.00   1.35   5.00"
      ]
     },
     "execution_count": 25,
     "metadata": {},
     "output_type": "execute_result"
    }
   ],
   "source": [
    "# pivoting bets data to see the changes with time easily and see the odds in a single row for each match - bookmaker - timestamp\n",
    "bets_pivoted = bets.pivot_table(index=['match_id', 'odd_bookmakers', 'timestamp'],\n",
    "                        columns='variable',\n",
    "                        values='value').reset_index()\n",
    "bets_pivoted.head()"
   ]
  },
  {
   "cell_type": "code",
   "execution_count": 26,
   "metadata": {},
   "outputs": [
    {
     "name": "stdout",
     "output_type": "stream",
     "text": [
      "417264\n",
      "417264\n"
     ]
    }
   ],
   "source": [
    "print(len(bets))\n",
    "print(len(bets_pivoted) * 3)"
   ]
  },
  {
   "cell_type": "code",
   "execution_count": 27,
   "metadata": {},
   "outputs": [
    {
     "data": {
      "text/html": [
       "<div>\n",
       "<style scoped>\n",
       "    .dataframe tbody tr th:only-of-type {\n",
       "        vertical-align: middle;\n",
       "    }\n",
       "\n",
       "    .dataframe tbody tr th {\n",
       "        vertical-align: top;\n",
       "    }\n",
       "\n",
       "    .dataframe thead th {\n",
       "        text-align: right;\n",
       "    }\n",
       "</style>\n",
       "<table border=\"1\" class=\"dataframe\">\n",
       "  <thead>\n",
       "    <tr style=\"text-align: right;\">\n",
       "      <th>variable</th>\n",
       "      <th>match_id</th>\n",
       "      <th>odd_bookmakers</th>\n",
       "      <th>timestamp</th>\n",
       "      <th>odd_1</th>\n",
       "      <th>odd_2</th>\n",
       "      <th>odd_x</th>\n",
       "    </tr>\n",
       "  </thead>\n",
       "  <tbody>\n",
       "    <tr>\n",
       "      <th>134455</th>\n",
       "      <td>277627</td>\n",
       "      <td>bet365</td>\n",
       "      <td>2019-07-30 10:17:18</td>\n",
       "      <td>0.0</td>\n",
       "      <td>1.9</td>\n",
       "      <td>1.9</td>\n",
       "    </tr>\n",
       "    <tr>\n",
       "      <th>134456</th>\n",
       "      <td>277627</td>\n",
       "      <td>bet365.it</td>\n",
       "      <td>2019-07-30 10:17:18</td>\n",
       "      <td>0.0</td>\n",
       "      <td>1.9</td>\n",
       "      <td>1.9</td>\n",
       "    </tr>\n",
       "  </tbody>\n",
       "</table>\n",
       "</div>"
      ],
      "text/plain": [
       "variable  match_id odd_bookmakers           timestamp  odd_1  odd_2  odd_x\n",
       "134455      277627         bet365 2019-07-30 10:17:18    0.0    1.9    1.9\n",
       "134456      277627      bet365.it 2019-07-30 10:17:18    0.0    1.9    1.9"
      ]
     },
     "execution_count": 27,
     "metadata": {},
     "output_type": "execute_result"
    }
   ],
   "source": [
    "# we need to remove these illogical observations\n",
    "bets_pivoted[(bets_pivoted['odd_1'] <= 1) |\n",
    "             (bets_pivoted['odd_x'] <= 1) |\n",
    "             (bets_pivoted['odd_2'] <= 1)]"
   ]
  },
  {
   "cell_type": "code",
   "execution_count": 28,
   "metadata": {},
   "outputs": [],
   "source": [
    "bets_pivoted = bets_pivoted[(bets_pivoted['odd_1'] > 1) &\n",
    "                            (bets_pivoted['odd_x'] > 1) &\n",
    "                            (bets_pivoted['odd_2'] > 1)]"
   ]
  },
  {
   "cell_type": "code",
   "execution_count": 29,
   "metadata": {},
   "outputs": [
    {
     "data": {
      "text/html": [
       "<div>\n",
       "<style scoped>\n",
       "    .dataframe tbody tr th:only-of-type {\n",
       "        vertical-align: middle;\n",
       "    }\n",
       "\n",
       "    .dataframe tbody tr th {\n",
       "        vertical-align: top;\n",
       "    }\n",
       "\n",
       "    .dataframe thead th {\n",
       "        text-align: right;\n",
       "    }\n",
       "</style>\n",
       "<table border=\"1\" class=\"dataframe\">\n",
       "  <thead>\n",
       "    <tr style=\"text-align: right;\">\n",
       "      <th>variable</th>\n",
       "      <th>match_id</th>\n",
       "      <th>odd_bookmakers</th>\n",
       "      <th>timestamp</th>\n",
       "      <th>odd_1</th>\n",
       "      <th>odd_2</th>\n",
       "      <th>odd_x</th>\n",
       "    </tr>\n",
       "  </thead>\n",
       "  <tbody>\n",
       "    <tr>\n",
       "      <th>0</th>\n",
       "      <td>145899</td>\n",
       "      <td>10Bet</td>\n",
       "      <td>2017-03-12 11:03:01</td>\n",
       "      <td>6.75</td>\n",
       "      <td>1.29</td>\n",
       "      <td>5.25</td>\n",
       "    </tr>\n",
       "    <tr>\n",
       "      <th>1</th>\n",
       "      <td>145899</td>\n",
       "      <td>188BET</td>\n",
       "      <td>2017-03-12 11:03:01</td>\n",
       "      <td>4.95</td>\n",
       "      <td>1.43</td>\n",
       "      <td>4.60</td>\n",
       "    </tr>\n",
       "    <tr>\n",
       "      <th>2</th>\n",
       "      <td>145899</td>\n",
       "      <td>18bet</td>\n",
       "      <td>2017-03-12 11:03:01</td>\n",
       "      <td>5.35</td>\n",
       "      <td>1.43</td>\n",
       "      <td>4.30</td>\n",
       "    </tr>\n",
       "    <tr>\n",
       "      <th>3</th>\n",
       "      <td>145899</td>\n",
       "      <td>1xBet</td>\n",
       "      <td>2017-03-12 11:03:01</td>\n",
       "      <td>6.45</td>\n",
       "      <td>1.49</td>\n",
       "      <td>4.76</td>\n",
       "    </tr>\n",
       "    <tr>\n",
       "      <th>4</th>\n",
       "      <td>145899</td>\n",
       "      <td>888sport</td>\n",
       "      <td>2017-03-12 11:03:01</td>\n",
       "      <td>7.00</td>\n",
       "      <td>1.35</td>\n",
       "      <td>5.00</td>\n",
       "    </tr>\n",
       "  </tbody>\n",
       "</table>\n",
       "</div>"
      ],
      "text/plain": [
       "variable  match_id odd_bookmakers           timestamp  odd_1  odd_2  odd_x\n",
       "0           145899          10Bet 2017-03-12 11:03:01   6.75   1.29   5.25\n",
       "1           145899         188BET 2017-03-12 11:03:01   4.95   1.43   4.60\n",
       "2           145899          18bet 2017-03-12 11:03:01   5.35   1.43   4.30\n",
       "3           145899          1xBet 2017-03-12 11:03:01   6.45   1.49   4.76\n",
       "4           145899       888sport 2017-03-12 11:03:01   7.00   1.35   5.00"
      ]
     },
     "execution_count": 29,
     "metadata": {},
     "output_type": "execute_result"
    }
   ],
   "source": [
    "# Since bets are changing by time, I will use final odds announced by bookmakers\n",
    "# by assuming they are correcting their odds somehow\n",
    "final_bets = bets_pivoted.groupby(['match_id', 'odd_bookmakers'], as_index=False).last()\n",
    "final_bets.head()"
   ]
  },
  {
   "cell_type": "code",
   "execution_count": 30,
   "metadata": {
    "lines_to_next_cell": 2
   },
   "outputs": [],
   "source": [
    "for cols in ['odd_1', 'odd_x', 'odd_2']:\n",
    "  final_bets['prob_'+cols] = 1 / final_bets[cols]\n",
    "final_bets['total'] = final_bets['prob_odd_1'] + final_bets['prob_odd_x'] + final_bets['prob_odd_2']\n",
    "for cols in ['odd_1', 'odd_x', 'odd_2']:\n",
    "  final_bets['norm_prob_'+cols] = final_bets['prob_'+cols] / final_bets['total']"
   ]
  },
  {
   "cell_type": "code",
   "execution_count": 31,
   "metadata": {},
   "outputs": [],
   "source": [
    "matches['result'] = np.where(matches.match_hometeam_score > matches.match_awayteam_score, 1, 0)\n",
    "matches['result'] = np.where(matches.match_hometeam_score < matches.match_awayteam_score, 2, matches.result)"
   ]
  },
  {
   "cell_type": "code",
   "execution_count": 32,
   "metadata": {},
   "outputs": [],
   "source": [
    "final_bets = final_bets.merge(matches[['match_id', 'result']], on='match_id')"
   ]
  },
  {
   "cell_type": "code",
   "execution_count": 55,
   "metadata": {},
   "outputs": [
    {
     "data": {
      "text/plain": [
       "array([-1. , -0.8, -0.6, -0.4, -0.2,  0. ,  0.2,  0.4,  0.6,  0.8,  1. ])"
      ]
     },
     "execution_count": 55,
     "metadata": {},
     "output_type": "execute_result"
    }
   ],
   "source": [
    "\n",
    "bins = 10\n",
    "slices = np.linspace(-1, 1, bins+1, True).astype(np.float)\n",
    "slices\n"
   ]
  },
  {
   "cell_type": "code",
   "execution_count": 56,
   "metadata": {},
   "outputs": [],
   "source": [
    "# TODO: do not assign on the lower limits\n",
    "def convert_to_bin(num):\n",
    "  return min([round(slices[i-1], 2) for i,x in enumerate(slices) if num <= x])"
   ]
  },
  {
   "cell_type": "code",
   "execution_count": null,
   "metadata": {},
   "outputs": [],
   "source": []
  },
  {
   "cell_type": "code",
   "execution_count": null,
   "metadata": {
    "lines_to_next_cell": 2
   },
   "outputs": [],
   "source": [
    "final_bets = final_bets[final_bets['odd_bookmakers'].isin(['10Bet', '188BET', '1xBet', 'Betsson'])]\n",
    "final_bets['diff'] = final_bets['norm_prob_odd_1'] - final_bets['norm_prob_odd_2']\n",
    "final_bets['bins'] = final_bets['diff'].apply(lambda x: convert_to_bin(x))"
   ]
  },
  {
   "cell_type": "code",
   "execution_count": null,
   "metadata": {},
   "outputs": [],
   "source": [
    "match_bins = final_bets.groupby(['bins'], as_index=False)[['match_id']].count()\n",
    "match_bins"
   ]
  },
  {
   "cell_type": "code",
   "execution_count": null,
   "metadata": {},
   "outputs": [],
   "source": [
    "draws = final_bets[final_bets['result'] == 0].groupby(['bins'], as_index=False)[['match_id']].count()\n",
    "draws"
   ]
  },
  {
   "cell_type": "code",
   "execution_count": null,
   "metadata": {},
   "outputs": [],
   "source": [
    "match_bins = match_bins.merge(draws, on='bins', how='outer').fillna(0)\n",
    "match_bins['draw_ratio'] = match_bins['match_id_y'] / match_bins['match_id_x']\n",
    "match_bins"
   ]
  },
  {
   "cell_type": "code",
   "execution_count": null,
   "metadata": {},
   "outputs": [],
   "source": [
    "ax = sns.scatterplot(x=\"diff\", y=\"norm_prob_odd_x\",\n",
    "                     sizes=(10, 200),\n",
    "                     data=final_bets)\n",
    "plt.plot(match_bins.bins,\n",
    "         match_bins.draw_ratio,\n",
    "         'ro-',\n",
    "         alpha=1)"
   ]
  },
  {
   "cell_type": "code",
   "execution_count": null,
   "metadata": {},
   "outputs": [],
   "source": [
    "# '10Bet', '188BET', '1xBet', 'Betsson'\n",
    "ax = sns.scatterplot(x=\"diff\", y=\"norm_prob_odd_x\",\n",
    "                     sizes=(10, 200),\n",
    "                     data=final_bets[final_bets['odd_bookmakers'] == '188BET'])\n",
    "plt.plot(match_bins.bins,\n",
    "         match_bins.draw_ratio,\n",
    "         'ro-',\n",
    "         alpha=1)"
   ]
  },
  {
   "cell_type": "code",
   "execution_count": null,
   "metadata": {},
   "outputs": [],
   "source": [
    "# '10Bet', '188BET', '1xBet', 'Betsson'\n",
    "ax = sns.scatterplot(x=\"diff\", y=\"norm_prob_odd_x\",\n",
    "                     sizes=(10, 200),\n",
    "                     data=final_bets[final_bets['odd_bookmakers'] == '1xBet'])\n",
    "plt.plot(match_bins.bins,\n",
    "         match_bins.draw_ratio,\n",
    "         'ro-',\n",
    "         alpha=1)"
   ]
  },
  {
   "cell_type": "code",
   "execution_count": null,
   "metadata": {},
   "outputs": [],
   "source": [
    "avg_result = final_bets.groupby('bins', as_index=False)[['norm_prob_odd_x']].mean()"
   ]
  },
  {
   "cell_type": "code",
   "execution_count": null,
   "metadata": {},
   "outputs": [],
   "source": [
    "# '10Bet', '188BET', '1xBet', 'Betsson'\n",
    "ax = sns.scatterplot(x=\"diff\", y=\"norm_prob_odd_x\",\n",
    "                     sizes=(10, 200),\n",
    "                     data=final_bets[final_bets['odd_bookmakers'] == '188BET'])\n",
    "plt.plot(match_bins.bins,\n",
    "         match_bins.draw_ratio,\n",
    "         'ro-',\n",
    "         alpha=1)\n",
    "plt.plot(avg_result.bins,\n",
    "         avg_result.norm_prob_odd_x,\n",
    "         'go-',\n",
    "         alpha=1)"
   ]
  },
  {
   "cell_type": "code",
   "execution_count": null,
   "metadata": {},
   "outputs": [],
   "source": []
  },
  {
   "cell_type": "code",
   "execution_count": null,
   "metadata": {},
   "outputs": [],
   "source": []
  }
 ],
 "metadata": {
  "jupytext": {
   "formats": "ipynb,py:light"
  },
  "kernelspec": {
   "display_name": "Python 3",
   "language": "python",
   "name": "python3"
  },
  "language_info": {
   "codemirror_mode": {
    "name": "ipython",
    "version": 3
   },
   "file_extension": ".py",
   "mimetype": "text/x-python",
   "name": "python",
   "nbconvert_exporter": "python",
   "pygments_lexer": "ipython3",
   "version": "3.7.1"
  }
 },
 "nbformat": 4,
 "nbformat_minor": 2
}
